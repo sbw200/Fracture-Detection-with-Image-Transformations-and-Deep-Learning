{
  "nbformat": 4,
  "nbformat_minor": 0,
  "metadata": {
    "colab": {
      "provenance": [],
      "gpuType": "T4"
    },
    "kernelspec": {
      "name": "python3",
      "display_name": "Python 3"
    },
    "language_info": {
      "name": "python"
    },
    "accelerator": "GPU",
    "widgets": {
      "application/vnd.jupyter.widget-state+json": {
        "e64251a5cd794cb89509bc8a470e6522": {
          "model_module": "@jupyter-widgets/controls",
          "model_name": "VBoxModel",
          "model_module_version": "1.5.0",
          "state": {
            "_dom_classes": [],
            "_model_module": "@jupyter-widgets/controls",
            "_model_module_version": "1.5.0",
            "_model_name": "VBoxModel",
            "_view_count": null,
            "_view_module": "@jupyter-widgets/controls",
            "_view_module_version": "1.5.0",
            "_view_name": "VBoxView",
            "box_style": "",
            "children": [],
            "layout": "IPY_MODEL_d29f361bd087446e8c799bf2ff331bc3"
          }
        },
        "a6eb0137ab374332a59ec57afa016e5a": {
          "model_module": "@jupyter-widgets/controls",
          "model_name": "HTMLModel",
          "model_module_version": "1.5.0",
          "state": {
            "_dom_classes": [],
            "_model_module": "@jupyter-widgets/controls",
            "_model_module_version": "1.5.0",
            "_model_name": "HTMLModel",
            "_view_count": null,
            "_view_module": "@jupyter-widgets/controls",
            "_view_module_version": "1.5.0",
            "_view_name": "HTMLView",
            "description": "",
            "description_tooltip": null,
            "layout": "IPY_MODEL_888ab113c5ea471db49edd8edcf98a20",
            "placeholder": "​",
            "style": "IPY_MODEL_7ffc3bea3260419b8dd9a274f2ad001b",
            "value": "<center> <img\nsrc=https://huggingface.co/front/assets/huggingface_logo-noborder.svg\nalt='Hugging Face'> <br> Copy a token from <a\nhref=\"https://huggingface.co/settings/tokens\" target=\"_blank\">your Hugging Face\ntokens page</a> and paste it below. <br> Immediately click login after copying\nyour token or it might be stored in plain text in this notebook file. </center>"
          }
        },
        "e0ce409f47d34e29becd7680b02e40df": {
          "model_module": "@jupyter-widgets/controls",
          "model_name": "PasswordModel",
          "model_module_version": "1.5.0",
          "state": {
            "_dom_classes": [],
            "_model_module": "@jupyter-widgets/controls",
            "_model_module_version": "1.5.0",
            "_model_name": "PasswordModel",
            "_view_count": null,
            "_view_module": "@jupyter-widgets/controls",
            "_view_module_version": "1.5.0",
            "_view_name": "PasswordView",
            "continuous_update": true,
            "description": "Token:",
            "description_tooltip": null,
            "disabled": false,
            "layout": "IPY_MODEL_b3908decc31f498c959733f9e752aff6",
            "placeholder": "​",
            "style": "IPY_MODEL_aae4910b211744e88993b6662df1a430",
            "value": ""
          }
        },
        "5602e361eb42414690449d95d604e9d7": {
          "model_module": "@jupyter-widgets/controls",
          "model_name": "CheckboxModel",
          "model_module_version": "1.5.0",
          "state": {
            "_dom_classes": [],
            "_model_module": "@jupyter-widgets/controls",
            "_model_module_version": "1.5.0",
            "_model_name": "CheckboxModel",
            "_view_count": null,
            "_view_module": "@jupyter-widgets/controls",
            "_view_module_version": "1.5.0",
            "_view_name": "CheckboxView",
            "description": "Add token as git credential?",
            "description_tooltip": null,
            "disabled": false,
            "indent": true,
            "layout": "IPY_MODEL_ba863b8ef0c942de974ae47531cc1ef8",
            "style": "IPY_MODEL_797c2fd4f32d4f6fa28ae5c30470ace4",
            "value": true
          }
        },
        "4d4d15ff72ee410fa8a017006ed98ed3": {
          "model_module": "@jupyter-widgets/controls",
          "model_name": "ButtonModel",
          "model_module_version": "1.5.0",
          "state": {
            "_dom_classes": [],
            "_model_module": "@jupyter-widgets/controls",
            "_model_module_version": "1.5.0",
            "_model_name": "ButtonModel",
            "_view_count": null,
            "_view_module": "@jupyter-widgets/controls",
            "_view_module_version": "1.5.0",
            "_view_name": "ButtonView",
            "button_style": "",
            "description": "Login",
            "disabled": false,
            "icon": "",
            "layout": "IPY_MODEL_272c2007bc844ebf8007bb24e3cd5094",
            "style": "IPY_MODEL_fd5b5de6aac44684a9f7e06ffc113fa9",
            "tooltip": ""
          }
        },
        "4a489f70df764a828d37c7058d798fac": {
          "model_module": "@jupyter-widgets/controls",
          "model_name": "HTMLModel",
          "model_module_version": "1.5.0",
          "state": {
            "_dom_classes": [],
            "_model_module": "@jupyter-widgets/controls",
            "_model_module_version": "1.5.0",
            "_model_name": "HTMLModel",
            "_view_count": null,
            "_view_module": "@jupyter-widgets/controls",
            "_view_module_version": "1.5.0",
            "_view_name": "HTMLView",
            "description": "",
            "description_tooltip": null,
            "layout": "IPY_MODEL_2cc47ac6de2240c6a0743cef96100e4e",
            "placeholder": "​",
            "style": "IPY_MODEL_c7f0a4f3e5e145319ab4583d20cd22af",
            "value": "\n<b>Pro Tip:</b> If you don't already have one, you can create a dedicated\n'notebooks' token with 'write' access, that you can then easily reuse for all\nnotebooks. </center>"
          }
        },
        "d29f361bd087446e8c799bf2ff331bc3": {
          "model_module": "@jupyter-widgets/base",
          "model_name": "LayoutModel",
          "model_module_version": "1.2.0",
          "state": {
            "_model_module": "@jupyter-widgets/base",
            "_model_module_version": "1.2.0",
            "_model_name": "LayoutModel",
            "_view_count": null,
            "_view_module": "@jupyter-widgets/base",
            "_view_module_version": "1.2.0",
            "_view_name": "LayoutView",
            "align_content": null,
            "align_items": "center",
            "align_self": null,
            "border": null,
            "bottom": null,
            "display": "flex",
            "flex": null,
            "flex_flow": "column",
            "grid_area": null,
            "grid_auto_columns": null,
            "grid_auto_flow": null,
            "grid_auto_rows": null,
            "grid_column": null,
            "grid_gap": null,
            "grid_row": null,
            "grid_template_areas": null,
            "grid_template_columns": null,
            "grid_template_rows": null,
            "height": null,
            "justify_content": null,
            "justify_items": null,
            "left": null,
            "margin": null,
            "max_height": null,
            "max_width": null,
            "min_height": null,
            "min_width": null,
            "object_fit": null,
            "object_position": null,
            "order": null,
            "overflow": null,
            "overflow_x": null,
            "overflow_y": null,
            "padding": null,
            "right": null,
            "top": null,
            "visibility": null,
            "width": "50%"
          }
        },
        "888ab113c5ea471db49edd8edcf98a20": {
          "model_module": "@jupyter-widgets/base",
          "model_name": "LayoutModel",
          "model_module_version": "1.2.0",
          "state": {
            "_model_module": "@jupyter-widgets/base",
            "_model_module_version": "1.2.0",
            "_model_name": "LayoutModel",
            "_view_count": null,
            "_view_module": "@jupyter-widgets/base",
            "_view_module_version": "1.2.0",
            "_view_name": "LayoutView",
            "align_content": null,
            "align_items": null,
            "align_self": null,
            "border": null,
            "bottom": null,
            "display": null,
            "flex": null,
            "flex_flow": null,
            "grid_area": null,
            "grid_auto_columns": null,
            "grid_auto_flow": null,
            "grid_auto_rows": null,
            "grid_column": null,
            "grid_gap": null,
            "grid_row": null,
            "grid_template_areas": null,
            "grid_template_columns": null,
            "grid_template_rows": null,
            "height": null,
            "justify_content": null,
            "justify_items": null,
            "left": null,
            "margin": null,
            "max_height": null,
            "max_width": null,
            "min_height": null,
            "min_width": null,
            "object_fit": null,
            "object_position": null,
            "order": null,
            "overflow": null,
            "overflow_x": null,
            "overflow_y": null,
            "padding": null,
            "right": null,
            "top": null,
            "visibility": null,
            "width": null
          }
        },
        "7ffc3bea3260419b8dd9a274f2ad001b": {
          "model_module": "@jupyter-widgets/controls",
          "model_name": "DescriptionStyleModel",
          "model_module_version": "1.5.0",
          "state": {
            "_model_module": "@jupyter-widgets/controls",
            "_model_module_version": "1.5.0",
            "_model_name": "DescriptionStyleModel",
            "_view_count": null,
            "_view_module": "@jupyter-widgets/base",
            "_view_module_version": "1.2.0",
            "_view_name": "StyleView",
            "description_width": ""
          }
        },
        "b3908decc31f498c959733f9e752aff6": {
          "model_module": "@jupyter-widgets/base",
          "model_name": "LayoutModel",
          "model_module_version": "1.2.0",
          "state": {
            "_model_module": "@jupyter-widgets/base",
            "_model_module_version": "1.2.0",
            "_model_name": "LayoutModel",
            "_view_count": null,
            "_view_module": "@jupyter-widgets/base",
            "_view_module_version": "1.2.0",
            "_view_name": "LayoutView",
            "align_content": null,
            "align_items": null,
            "align_self": null,
            "border": null,
            "bottom": null,
            "display": null,
            "flex": null,
            "flex_flow": null,
            "grid_area": null,
            "grid_auto_columns": null,
            "grid_auto_flow": null,
            "grid_auto_rows": null,
            "grid_column": null,
            "grid_gap": null,
            "grid_row": null,
            "grid_template_areas": null,
            "grid_template_columns": null,
            "grid_template_rows": null,
            "height": null,
            "justify_content": null,
            "justify_items": null,
            "left": null,
            "margin": null,
            "max_height": null,
            "max_width": null,
            "min_height": null,
            "min_width": null,
            "object_fit": null,
            "object_position": null,
            "order": null,
            "overflow": null,
            "overflow_x": null,
            "overflow_y": null,
            "padding": null,
            "right": null,
            "top": null,
            "visibility": null,
            "width": null
          }
        },
        "aae4910b211744e88993b6662df1a430": {
          "model_module": "@jupyter-widgets/controls",
          "model_name": "DescriptionStyleModel",
          "model_module_version": "1.5.0",
          "state": {
            "_model_module": "@jupyter-widgets/controls",
            "_model_module_version": "1.5.0",
            "_model_name": "DescriptionStyleModel",
            "_view_count": null,
            "_view_module": "@jupyter-widgets/base",
            "_view_module_version": "1.2.0",
            "_view_name": "StyleView",
            "description_width": ""
          }
        },
        "ba863b8ef0c942de974ae47531cc1ef8": {
          "model_module": "@jupyter-widgets/base",
          "model_name": "LayoutModel",
          "model_module_version": "1.2.0",
          "state": {
            "_model_module": "@jupyter-widgets/base",
            "_model_module_version": "1.2.0",
            "_model_name": "LayoutModel",
            "_view_count": null,
            "_view_module": "@jupyter-widgets/base",
            "_view_module_version": "1.2.0",
            "_view_name": "LayoutView",
            "align_content": null,
            "align_items": null,
            "align_self": null,
            "border": null,
            "bottom": null,
            "display": null,
            "flex": null,
            "flex_flow": null,
            "grid_area": null,
            "grid_auto_columns": null,
            "grid_auto_flow": null,
            "grid_auto_rows": null,
            "grid_column": null,
            "grid_gap": null,
            "grid_row": null,
            "grid_template_areas": null,
            "grid_template_columns": null,
            "grid_template_rows": null,
            "height": null,
            "justify_content": null,
            "justify_items": null,
            "left": null,
            "margin": null,
            "max_height": null,
            "max_width": null,
            "min_height": null,
            "min_width": null,
            "object_fit": null,
            "object_position": null,
            "order": null,
            "overflow": null,
            "overflow_x": null,
            "overflow_y": null,
            "padding": null,
            "right": null,
            "top": null,
            "visibility": null,
            "width": null
          }
        },
        "797c2fd4f32d4f6fa28ae5c30470ace4": {
          "model_module": "@jupyter-widgets/controls",
          "model_name": "DescriptionStyleModel",
          "model_module_version": "1.5.0",
          "state": {
            "_model_module": "@jupyter-widgets/controls",
            "_model_module_version": "1.5.0",
            "_model_name": "DescriptionStyleModel",
            "_view_count": null,
            "_view_module": "@jupyter-widgets/base",
            "_view_module_version": "1.2.0",
            "_view_name": "StyleView",
            "description_width": ""
          }
        },
        "272c2007bc844ebf8007bb24e3cd5094": {
          "model_module": "@jupyter-widgets/base",
          "model_name": "LayoutModel",
          "model_module_version": "1.2.0",
          "state": {
            "_model_module": "@jupyter-widgets/base",
            "_model_module_version": "1.2.0",
            "_model_name": "LayoutModel",
            "_view_count": null,
            "_view_module": "@jupyter-widgets/base",
            "_view_module_version": "1.2.0",
            "_view_name": "LayoutView",
            "align_content": null,
            "align_items": null,
            "align_self": null,
            "border": null,
            "bottom": null,
            "display": null,
            "flex": null,
            "flex_flow": null,
            "grid_area": null,
            "grid_auto_columns": null,
            "grid_auto_flow": null,
            "grid_auto_rows": null,
            "grid_column": null,
            "grid_gap": null,
            "grid_row": null,
            "grid_template_areas": null,
            "grid_template_columns": null,
            "grid_template_rows": null,
            "height": null,
            "justify_content": null,
            "justify_items": null,
            "left": null,
            "margin": null,
            "max_height": null,
            "max_width": null,
            "min_height": null,
            "min_width": null,
            "object_fit": null,
            "object_position": null,
            "order": null,
            "overflow": null,
            "overflow_x": null,
            "overflow_y": null,
            "padding": null,
            "right": null,
            "top": null,
            "visibility": null,
            "width": null
          }
        },
        "fd5b5de6aac44684a9f7e06ffc113fa9": {
          "model_module": "@jupyter-widgets/controls",
          "model_name": "ButtonStyleModel",
          "model_module_version": "1.5.0",
          "state": {
            "_model_module": "@jupyter-widgets/controls",
            "_model_module_version": "1.5.0",
            "_model_name": "ButtonStyleModel",
            "_view_count": null,
            "_view_module": "@jupyter-widgets/base",
            "_view_module_version": "1.2.0",
            "_view_name": "StyleView",
            "button_color": null,
            "font_weight": ""
          }
        },
        "2cc47ac6de2240c6a0743cef96100e4e": {
          "model_module": "@jupyter-widgets/base",
          "model_name": "LayoutModel",
          "model_module_version": "1.2.0",
          "state": {
            "_model_module": "@jupyter-widgets/base",
            "_model_module_version": "1.2.0",
            "_model_name": "LayoutModel",
            "_view_count": null,
            "_view_module": "@jupyter-widgets/base",
            "_view_module_version": "1.2.0",
            "_view_name": "LayoutView",
            "align_content": null,
            "align_items": null,
            "align_self": null,
            "border": null,
            "bottom": null,
            "display": null,
            "flex": null,
            "flex_flow": null,
            "grid_area": null,
            "grid_auto_columns": null,
            "grid_auto_flow": null,
            "grid_auto_rows": null,
            "grid_column": null,
            "grid_gap": null,
            "grid_row": null,
            "grid_template_areas": null,
            "grid_template_columns": null,
            "grid_template_rows": null,
            "height": null,
            "justify_content": null,
            "justify_items": null,
            "left": null,
            "margin": null,
            "max_height": null,
            "max_width": null,
            "min_height": null,
            "min_width": null,
            "object_fit": null,
            "object_position": null,
            "order": null,
            "overflow": null,
            "overflow_x": null,
            "overflow_y": null,
            "padding": null,
            "right": null,
            "top": null,
            "visibility": null,
            "width": null
          }
        },
        "c7f0a4f3e5e145319ab4583d20cd22af": {
          "model_module": "@jupyter-widgets/controls",
          "model_name": "DescriptionStyleModel",
          "model_module_version": "1.5.0",
          "state": {
            "_model_module": "@jupyter-widgets/controls",
            "_model_module_version": "1.5.0",
            "_model_name": "DescriptionStyleModel",
            "_view_count": null,
            "_view_module": "@jupyter-widgets/base",
            "_view_module_version": "1.2.0",
            "_view_name": "StyleView",
            "description_width": ""
          }
        },
        "f63795d907814a30a8e9fa9ebbaff269": {
          "model_module": "@jupyter-widgets/controls",
          "model_name": "LabelModel",
          "model_module_version": "1.5.0",
          "state": {
            "_dom_classes": [],
            "_model_module": "@jupyter-widgets/controls",
            "_model_module_version": "1.5.0",
            "_model_name": "LabelModel",
            "_view_count": null,
            "_view_module": "@jupyter-widgets/controls",
            "_view_module_version": "1.5.0",
            "_view_name": "LabelView",
            "description": "",
            "description_tooltip": null,
            "layout": "IPY_MODEL_0c28445ccc554d06b87e52d247810238",
            "placeholder": "​",
            "style": "IPY_MODEL_b28010c368be4609afbbfc19bb91ae59",
            "value": "Connecting..."
          }
        },
        "0c28445ccc554d06b87e52d247810238": {
          "model_module": "@jupyter-widgets/base",
          "model_name": "LayoutModel",
          "model_module_version": "1.2.0",
          "state": {
            "_model_module": "@jupyter-widgets/base",
            "_model_module_version": "1.2.0",
            "_model_name": "LayoutModel",
            "_view_count": null,
            "_view_module": "@jupyter-widgets/base",
            "_view_module_version": "1.2.0",
            "_view_name": "LayoutView",
            "align_content": null,
            "align_items": null,
            "align_self": null,
            "border": null,
            "bottom": null,
            "display": null,
            "flex": null,
            "flex_flow": null,
            "grid_area": null,
            "grid_auto_columns": null,
            "grid_auto_flow": null,
            "grid_auto_rows": null,
            "grid_column": null,
            "grid_gap": null,
            "grid_row": null,
            "grid_template_areas": null,
            "grid_template_columns": null,
            "grid_template_rows": null,
            "height": null,
            "justify_content": null,
            "justify_items": null,
            "left": null,
            "margin": null,
            "max_height": null,
            "max_width": null,
            "min_height": null,
            "min_width": null,
            "object_fit": null,
            "object_position": null,
            "order": null,
            "overflow": null,
            "overflow_x": null,
            "overflow_y": null,
            "padding": null,
            "right": null,
            "top": null,
            "visibility": null,
            "width": null
          }
        },
        "b28010c368be4609afbbfc19bb91ae59": {
          "model_module": "@jupyter-widgets/controls",
          "model_name": "DescriptionStyleModel",
          "model_module_version": "1.5.0",
          "state": {
            "_model_module": "@jupyter-widgets/controls",
            "_model_module_version": "1.5.0",
            "_model_name": "DescriptionStyleModel",
            "_view_count": null,
            "_view_module": "@jupyter-widgets/base",
            "_view_module_version": "1.2.0",
            "_view_name": "StyleView",
            "description_width": ""
          }
        },
        "ae1290dfec6d491fb5ba624e6b5bb6d7": {
          "model_module": "@jupyter-widgets/controls",
          "model_name": "HBoxModel",
          "model_module_version": "1.5.0",
          "state": {
            "_dom_classes": [],
            "_model_module": "@jupyter-widgets/controls",
            "_model_module_version": "1.5.0",
            "_model_name": "HBoxModel",
            "_view_count": null,
            "_view_module": "@jupyter-widgets/controls",
            "_view_module_version": "1.5.0",
            "_view_name": "HBoxView",
            "box_style": "",
            "children": [
              "IPY_MODEL_da334681a3ef404b90813e34d6296e83",
              "IPY_MODEL_692280632e94471984e060a46f61e78f",
              "IPY_MODEL_04d72a33b7aa4bd6ad36fd4740a0b18e"
            ],
            "layout": "IPY_MODEL_248d125532634998a76def637ccd9c93"
          }
        },
        "da334681a3ef404b90813e34d6296e83": {
          "model_module": "@jupyter-widgets/controls",
          "model_name": "HTMLModel",
          "model_module_version": "1.5.0",
          "state": {
            "_dom_classes": [],
            "_model_module": "@jupyter-widgets/controls",
            "_model_module_version": "1.5.0",
            "_model_name": "HTMLModel",
            "_view_count": null,
            "_view_module": "@jupyter-widgets/controls",
            "_view_module_version": "1.5.0",
            "_view_name": "HTMLView",
            "description": "",
            "description_tooltip": null,
            "layout": "IPY_MODEL_e5b29f459d974ef2804944e2ec11b66a",
            "placeholder": "​",
            "style": "IPY_MODEL_50974ae897a04f6d8731409c52ee302c",
            "value": "efficientnet_clahe_hf.pt: 100%"
          }
        },
        "692280632e94471984e060a46f61e78f": {
          "model_module": "@jupyter-widgets/controls",
          "model_name": "FloatProgressModel",
          "model_module_version": "1.5.0",
          "state": {
            "_dom_classes": [],
            "_model_module": "@jupyter-widgets/controls",
            "_model_module_version": "1.5.0",
            "_model_name": "FloatProgressModel",
            "_view_count": null,
            "_view_module": "@jupyter-widgets/controls",
            "_view_module_version": "1.5.0",
            "_view_name": "ProgressView",
            "bar_style": "success",
            "description": "",
            "description_tooltip": null,
            "layout": "IPY_MODEL_cc5c0b65976e40b3beba101b1833fd6c",
            "max": 16394186,
            "min": 0,
            "orientation": "horizontal",
            "style": "IPY_MODEL_01a997681ba546c0924f27b556d997f2",
            "value": 16394186
          }
        },
        "04d72a33b7aa4bd6ad36fd4740a0b18e": {
          "model_module": "@jupyter-widgets/controls",
          "model_name": "HTMLModel",
          "model_module_version": "1.5.0",
          "state": {
            "_dom_classes": [],
            "_model_module": "@jupyter-widgets/controls",
            "_model_module_version": "1.5.0",
            "_model_name": "HTMLModel",
            "_view_count": null,
            "_view_module": "@jupyter-widgets/controls",
            "_view_module_version": "1.5.0",
            "_view_name": "HTMLView",
            "description": "",
            "description_tooltip": null,
            "layout": "IPY_MODEL_f9a5780d172d4a6791ddf6b4833a7912",
            "placeholder": "​",
            "style": "IPY_MODEL_efe807f027644e8f8ace04a2bb16d941",
            "value": " 16.4M/16.4M [00:01&lt;00:00, 19.3MB/s]"
          }
        },
        "248d125532634998a76def637ccd9c93": {
          "model_module": "@jupyter-widgets/base",
          "model_name": "LayoutModel",
          "model_module_version": "1.2.0",
          "state": {
            "_model_module": "@jupyter-widgets/base",
            "_model_module_version": "1.2.0",
            "_model_name": "LayoutModel",
            "_view_count": null,
            "_view_module": "@jupyter-widgets/base",
            "_view_module_version": "1.2.0",
            "_view_name": "LayoutView",
            "align_content": null,
            "align_items": null,
            "align_self": null,
            "border": null,
            "bottom": null,
            "display": null,
            "flex": null,
            "flex_flow": null,
            "grid_area": null,
            "grid_auto_columns": null,
            "grid_auto_flow": null,
            "grid_auto_rows": null,
            "grid_column": null,
            "grid_gap": null,
            "grid_row": null,
            "grid_template_areas": null,
            "grid_template_columns": null,
            "grid_template_rows": null,
            "height": null,
            "justify_content": null,
            "justify_items": null,
            "left": null,
            "margin": null,
            "max_height": null,
            "max_width": null,
            "min_height": null,
            "min_width": null,
            "object_fit": null,
            "object_position": null,
            "order": null,
            "overflow": null,
            "overflow_x": null,
            "overflow_y": null,
            "padding": null,
            "right": null,
            "top": null,
            "visibility": null,
            "width": null
          }
        },
        "e5b29f459d974ef2804944e2ec11b66a": {
          "model_module": "@jupyter-widgets/base",
          "model_name": "LayoutModel",
          "model_module_version": "1.2.0",
          "state": {
            "_model_module": "@jupyter-widgets/base",
            "_model_module_version": "1.2.0",
            "_model_name": "LayoutModel",
            "_view_count": null,
            "_view_module": "@jupyter-widgets/base",
            "_view_module_version": "1.2.0",
            "_view_name": "LayoutView",
            "align_content": null,
            "align_items": null,
            "align_self": null,
            "border": null,
            "bottom": null,
            "display": null,
            "flex": null,
            "flex_flow": null,
            "grid_area": null,
            "grid_auto_columns": null,
            "grid_auto_flow": null,
            "grid_auto_rows": null,
            "grid_column": null,
            "grid_gap": null,
            "grid_row": null,
            "grid_template_areas": null,
            "grid_template_columns": null,
            "grid_template_rows": null,
            "height": null,
            "justify_content": null,
            "justify_items": null,
            "left": null,
            "margin": null,
            "max_height": null,
            "max_width": null,
            "min_height": null,
            "min_width": null,
            "object_fit": null,
            "object_position": null,
            "order": null,
            "overflow": null,
            "overflow_x": null,
            "overflow_y": null,
            "padding": null,
            "right": null,
            "top": null,
            "visibility": null,
            "width": null
          }
        },
        "50974ae897a04f6d8731409c52ee302c": {
          "model_module": "@jupyter-widgets/controls",
          "model_name": "DescriptionStyleModel",
          "model_module_version": "1.5.0",
          "state": {
            "_model_module": "@jupyter-widgets/controls",
            "_model_module_version": "1.5.0",
            "_model_name": "DescriptionStyleModel",
            "_view_count": null,
            "_view_module": "@jupyter-widgets/base",
            "_view_module_version": "1.2.0",
            "_view_name": "StyleView",
            "description_width": ""
          }
        },
        "cc5c0b65976e40b3beba101b1833fd6c": {
          "model_module": "@jupyter-widgets/base",
          "model_name": "LayoutModel",
          "model_module_version": "1.2.0",
          "state": {
            "_model_module": "@jupyter-widgets/base",
            "_model_module_version": "1.2.0",
            "_model_name": "LayoutModel",
            "_view_count": null,
            "_view_module": "@jupyter-widgets/base",
            "_view_module_version": "1.2.0",
            "_view_name": "LayoutView",
            "align_content": null,
            "align_items": null,
            "align_self": null,
            "border": null,
            "bottom": null,
            "display": null,
            "flex": null,
            "flex_flow": null,
            "grid_area": null,
            "grid_auto_columns": null,
            "grid_auto_flow": null,
            "grid_auto_rows": null,
            "grid_column": null,
            "grid_gap": null,
            "grid_row": null,
            "grid_template_areas": null,
            "grid_template_columns": null,
            "grid_template_rows": null,
            "height": null,
            "justify_content": null,
            "justify_items": null,
            "left": null,
            "margin": null,
            "max_height": null,
            "max_width": null,
            "min_height": null,
            "min_width": null,
            "object_fit": null,
            "object_position": null,
            "order": null,
            "overflow": null,
            "overflow_x": null,
            "overflow_y": null,
            "padding": null,
            "right": null,
            "top": null,
            "visibility": null,
            "width": null
          }
        },
        "01a997681ba546c0924f27b556d997f2": {
          "model_module": "@jupyter-widgets/controls",
          "model_name": "ProgressStyleModel",
          "model_module_version": "1.5.0",
          "state": {
            "_model_module": "@jupyter-widgets/controls",
            "_model_module_version": "1.5.0",
            "_model_name": "ProgressStyleModel",
            "_view_count": null,
            "_view_module": "@jupyter-widgets/base",
            "_view_module_version": "1.2.0",
            "_view_name": "StyleView",
            "bar_color": null,
            "description_width": ""
          }
        },
        "f9a5780d172d4a6791ddf6b4833a7912": {
          "model_module": "@jupyter-widgets/base",
          "model_name": "LayoutModel",
          "model_module_version": "1.2.0",
          "state": {
            "_model_module": "@jupyter-widgets/base",
            "_model_module_version": "1.2.0",
            "_model_name": "LayoutModel",
            "_view_count": null,
            "_view_module": "@jupyter-widgets/base",
            "_view_module_version": "1.2.0",
            "_view_name": "LayoutView",
            "align_content": null,
            "align_items": null,
            "align_self": null,
            "border": null,
            "bottom": null,
            "display": null,
            "flex": null,
            "flex_flow": null,
            "grid_area": null,
            "grid_auto_columns": null,
            "grid_auto_flow": null,
            "grid_auto_rows": null,
            "grid_column": null,
            "grid_gap": null,
            "grid_row": null,
            "grid_template_areas": null,
            "grid_template_columns": null,
            "grid_template_rows": null,
            "height": null,
            "justify_content": null,
            "justify_items": null,
            "left": null,
            "margin": null,
            "max_height": null,
            "max_width": null,
            "min_height": null,
            "min_width": null,
            "object_fit": null,
            "object_position": null,
            "order": null,
            "overflow": null,
            "overflow_x": null,
            "overflow_y": null,
            "padding": null,
            "right": null,
            "top": null,
            "visibility": null,
            "width": null
          }
        },
        "efe807f027644e8f8ace04a2bb16d941": {
          "model_module": "@jupyter-widgets/controls",
          "model_name": "DescriptionStyleModel",
          "model_module_version": "1.5.0",
          "state": {
            "_model_module": "@jupyter-widgets/controls",
            "_model_module_version": "1.5.0",
            "_model_name": "DescriptionStyleModel",
            "_view_count": null,
            "_view_module": "@jupyter-widgets/base",
            "_view_module_version": "1.2.0",
            "_view_name": "StyleView",
            "description_width": ""
          }
        },
        "a300510518134c6d82ff1a213de20a88": {
          "model_module": "@jupyter-widgets/controls",
          "model_name": "HBoxModel",
          "model_module_version": "1.5.0",
          "state": {
            "_dom_classes": [],
            "_model_module": "@jupyter-widgets/controls",
            "_model_module_version": "1.5.0",
            "_model_name": "HBoxModel",
            "_view_count": null,
            "_view_module": "@jupyter-widgets/controls",
            "_view_module_version": "1.5.0",
            "_view_name": "HBoxView",
            "box_style": "",
            "children": [
              "IPY_MODEL_89041b5bdea94be4bb661738d6b731c3",
              "IPY_MODEL_3f6c06e8eaca49ad9cb71e2cc98f9a2c",
              "IPY_MODEL_40a7962d9e2c48ff9cd9860d34f21769"
            ],
            "layout": "IPY_MODEL_edf086393ce84ca78431745aecb99565"
          }
        },
        "89041b5bdea94be4bb661738d6b731c3": {
          "model_module": "@jupyter-widgets/controls",
          "model_name": "HTMLModel",
          "model_module_version": "1.5.0",
          "state": {
            "_dom_classes": [],
            "_model_module": "@jupyter-widgets/controls",
            "_model_module_version": "1.5.0",
            "_model_name": "HTMLModel",
            "_view_count": null,
            "_view_module": "@jupyter-widgets/controls",
            "_view_module_version": "1.5.0",
            "_view_name": "HTMLView",
            "description": "",
            "description_tooltip": null,
            "layout": "IPY_MODEL_91036e9e7b1b48f28c5fbc4e37789ec1",
            "placeholder": "​",
            "style": "IPY_MODEL_2c6fd38349c847e3aa21c4c9c8a26cc3",
            "value": "efficientnet_clahe_hf.pth: 100%"
          }
        },
        "3f6c06e8eaca49ad9cb71e2cc98f9a2c": {
          "model_module": "@jupyter-widgets/controls",
          "model_name": "FloatProgressModel",
          "model_module_version": "1.5.0",
          "state": {
            "_dom_classes": [],
            "_model_module": "@jupyter-widgets/controls",
            "_model_module_version": "1.5.0",
            "_model_name": "FloatProgressModel",
            "_view_count": null,
            "_view_module": "@jupyter-widgets/controls",
            "_view_module_version": "1.5.0",
            "_view_name": "ProgressView",
            "bar_style": "success",
            "description": "",
            "description_tooltip": null,
            "layout": "IPY_MODEL_2618e27fe8d54e2894dd4d2bddcc8751",
            "max": 16338506,
            "min": 0,
            "orientation": "horizontal",
            "style": "IPY_MODEL_f1dee2ab8de845d5a31520db99174013",
            "value": 16338506
          }
        },
        "40a7962d9e2c48ff9cd9860d34f21769": {
          "model_module": "@jupyter-widgets/controls",
          "model_name": "HTMLModel",
          "model_module_version": "1.5.0",
          "state": {
            "_dom_classes": [],
            "_model_module": "@jupyter-widgets/controls",
            "_model_module_version": "1.5.0",
            "_model_name": "HTMLModel",
            "_view_count": null,
            "_view_module": "@jupyter-widgets/controls",
            "_view_module_version": "1.5.0",
            "_view_name": "HTMLView",
            "description": "",
            "description_tooltip": null,
            "layout": "IPY_MODEL_1b256ed76ff54772aa081ae1656a2557",
            "placeholder": "​",
            "style": "IPY_MODEL_6fcf209570314f03bb37a5bdab338952",
            "value": " 16.3M/16.3M [00:01&lt;00:00, 23.3MB/s]"
          }
        },
        "edf086393ce84ca78431745aecb99565": {
          "model_module": "@jupyter-widgets/base",
          "model_name": "LayoutModel",
          "model_module_version": "1.2.0",
          "state": {
            "_model_module": "@jupyter-widgets/base",
            "_model_module_version": "1.2.0",
            "_model_name": "LayoutModel",
            "_view_count": null,
            "_view_module": "@jupyter-widgets/base",
            "_view_module_version": "1.2.0",
            "_view_name": "LayoutView",
            "align_content": null,
            "align_items": null,
            "align_self": null,
            "border": null,
            "bottom": null,
            "display": null,
            "flex": null,
            "flex_flow": null,
            "grid_area": null,
            "grid_auto_columns": null,
            "grid_auto_flow": null,
            "grid_auto_rows": null,
            "grid_column": null,
            "grid_gap": null,
            "grid_row": null,
            "grid_template_areas": null,
            "grid_template_columns": null,
            "grid_template_rows": null,
            "height": null,
            "justify_content": null,
            "justify_items": null,
            "left": null,
            "margin": null,
            "max_height": null,
            "max_width": null,
            "min_height": null,
            "min_width": null,
            "object_fit": null,
            "object_position": null,
            "order": null,
            "overflow": null,
            "overflow_x": null,
            "overflow_y": null,
            "padding": null,
            "right": null,
            "top": null,
            "visibility": null,
            "width": null
          }
        },
        "91036e9e7b1b48f28c5fbc4e37789ec1": {
          "model_module": "@jupyter-widgets/base",
          "model_name": "LayoutModel",
          "model_module_version": "1.2.0",
          "state": {
            "_model_module": "@jupyter-widgets/base",
            "_model_module_version": "1.2.0",
            "_model_name": "LayoutModel",
            "_view_count": null,
            "_view_module": "@jupyter-widgets/base",
            "_view_module_version": "1.2.0",
            "_view_name": "LayoutView",
            "align_content": null,
            "align_items": null,
            "align_self": null,
            "border": null,
            "bottom": null,
            "display": null,
            "flex": null,
            "flex_flow": null,
            "grid_area": null,
            "grid_auto_columns": null,
            "grid_auto_flow": null,
            "grid_auto_rows": null,
            "grid_column": null,
            "grid_gap": null,
            "grid_row": null,
            "grid_template_areas": null,
            "grid_template_columns": null,
            "grid_template_rows": null,
            "height": null,
            "justify_content": null,
            "justify_items": null,
            "left": null,
            "margin": null,
            "max_height": null,
            "max_width": null,
            "min_height": null,
            "min_width": null,
            "object_fit": null,
            "object_position": null,
            "order": null,
            "overflow": null,
            "overflow_x": null,
            "overflow_y": null,
            "padding": null,
            "right": null,
            "top": null,
            "visibility": null,
            "width": null
          }
        },
        "2c6fd38349c847e3aa21c4c9c8a26cc3": {
          "model_module": "@jupyter-widgets/controls",
          "model_name": "DescriptionStyleModel",
          "model_module_version": "1.5.0",
          "state": {
            "_model_module": "@jupyter-widgets/controls",
            "_model_module_version": "1.5.0",
            "_model_name": "DescriptionStyleModel",
            "_view_count": null,
            "_view_module": "@jupyter-widgets/base",
            "_view_module_version": "1.2.0",
            "_view_name": "StyleView",
            "description_width": ""
          }
        },
        "2618e27fe8d54e2894dd4d2bddcc8751": {
          "model_module": "@jupyter-widgets/base",
          "model_name": "LayoutModel",
          "model_module_version": "1.2.0",
          "state": {
            "_model_module": "@jupyter-widgets/base",
            "_model_module_version": "1.2.0",
            "_model_name": "LayoutModel",
            "_view_count": null,
            "_view_module": "@jupyter-widgets/base",
            "_view_module_version": "1.2.0",
            "_view_name": "LayoutView",
            "align_content": null,
            "align_items": null,
            "align_self": null,
            "border": null,
            "bottom": null,
            "display": null,
            "flex": null,
            "flex_flow": null,
            "grid_area": null,
            "grid_auto_columns": null,
            "grid_auto_flow": null,
            "grid_auto_rows": null,
            "grid_column": null,
            "grid_gap": null,
            "grid_row": null,
            "grid_template_areas": null,
            "grid_template_columns": null,
            "grid_template_rows": null,
            "height": null,
            "justify_content": null,
            "justify_items": null,
            "left": null,
            "margin": null,
            "max_height": null,
            "max_width": null,
            "min_height": null,
            "min_width": null,
            "object_fit": null,
            "object_position": null,
            "order": null,
            "overflow": null,
            "overflow_x": null,
            "overflow_y": null,
            "padding": null,
            "right": null,
            "top": null,
            "visibility": null,
            "width": null
          }
        },
        "f1dee2ab8de845d5a31520db99174013": {
          "model_module": "@jupyter-widgets/controls",
          "model_name": "ProgressStyleModel",
          "model_module_version": "1.5.0",
          "state": {
            "_model_module": "@jupyter-widgets/controls",
            "_model_module_version": "1.5.0",
            "_model_name": "ProgressStyleModel",
            "_view_count": null,
            "_view_module": "@jupyter-widgets/base",
            "_view_module_version": "1.2.0",
            "_view_name": "StyleView",
            "bar_color": null,
            "description_width": ""
          }
        },
        "1b256ed76ff54772aa081ae1656a2557": {
          "model_module": "@jupyter-widgets/base",
          "model_name": "LayoutModel",
          "model_module_version": "1.2.0",
          "state": {
            "_model_module": "@jupyter-widgets/base",
            "_model_module_version": "1.2.0",
            "_model_name": "LayoutModel",
            "_view_count": null,
            "_view_module": "@jupyter-widgets/base",
            "_view_module_version": "1.2.0",
            "_view_name": "LayoutView",
            "align_content": null,
            "align_items": null,
            "align_self": null,
            "border": null,
            "bottom": null,
            "display": null,
            "flex": null,
            "flex_flow": null,
            "grid_area": null,
            "grid_auto_columns": null,
            "grid_auto_flow": null,
            "grid_auto_rows": null,
            "grid_column": null,
            "grid_gap": null,
            "grid_row": null,
            "grid_template_areas": null,
            "grid_template_columns": null,
            "grid_template_rows": null,
            "height": null,
            "justify_content": null,
            "justify_items": null,
            "left": null,
            "margin": null,
            "max_height": null,
            "max_width": null,
            "min_height": null,
            "min_width": null,
            "object_fit": null,
            "object_position": null,
            "order": null,
            "overflow": null,
            "overflow_x": null,
            "overflow_y": null,
            "padding": null,
            "right": null,
            "top": null,
            "visibility": null,
            "width": null
          }
        },
        "6fcf209570314f03bb37a5bdab338952": {
          "model_module": "@jupyter-widgets/controls",
          "model_name": "DescriptionStyleModel",
          "model_module_version": "1.5.0",
          "state": {
            "_model_module": "@jupyter-widgets/controls",
            "_model_module_version": "1.5.0",
            "_model_name": "DescriptionStyleModel",
            "_view_count": null,
            "_view_module": "@jupyter-widgets/base",
            "_view_module_version": "1.2.0",
            "_view_name": "StyleView",
            "description_width": ""
          }
        },
        "6ce03a093d37476f80ab04dd1d0ceecc": {
          "model_module": "@jupyter-widgets/controls",
          "model_name": "HBoxModel",
          "model_module_version": "1.5.0",
          "state": {
            "_dom_classes": [],
            "_model_module": "@jupyter-widgets/controls",
            "_model_module_version": "1.5.0",
            "_model_name": "HBoxModel",
            "_view_count": null,
            "_view_module": "@jupyter-widgets/controls",
            "_view_module_version": "1.5.0",
            "_view_name": "HBoxView",
            "box_style": "",
            "children": [
              "IPY_MODEL_08e611dd50ce4c30bc10d8dde8d4b8c2",
              "IPY_MODEL_0166b279a2ff4e4996b176ff7086978a",
              "IPY_MODEL_fa75e346f27240219541e817b6740e03"
            ],
            "layout": "IPY_MODEL_622341fca443439388dd3894825d135b"
          }
        },
        "08e611dd50ce4c30bc10d8dde8d4b8c2": {
          "model_module": "@jupyter-widgets/controls",
          "model_name": "HTMLModel",
          "model_module_version": "1.5.0",
          "state": {
            "_dom_classes": [],
            "_model_module": "@jupyter-widgets/controls",
            "_model_module_version": "1.5.0",
            "_model_name": "HTMLModel",
            "_view_count": null,
            "_view_module": "@jupyter-widgets/controls",
            "_view_module_version": "1.5.0",
            "_view_name": "HTMLView",
            "description": "",
            "description_tooltip": null,
            "layout": "IPY_MODEL_4efca83c8ae94be785514af4838227fc",
            "placeholder": "​",
            "style": "IPY_MODEL_8697abb4c0cd4084a75dcecd3416d96a",
            "value": "efficientnet_clahe_hf.pth: 100%"
          }
        },
        "0166b279a2ff4e4996b176ff7086978a": {
          "model_module": "@jupyter-widgets/controls",
          "model_name": "FloatProgressModel",
          "model_module_version": "1.5.0",
          "state": {
            "_dom_classes": [],
            "_model_module": "@jupyter-widgets/controls",
            "_model_module_version": "1.5.0",
            "_model_name": "FloatProgressModel",
            "_view_count": null,
            "_view_module": "@jupyter-widgets/controls",
            "_view_module_version": "1.5.0",
            "_view_name": "ProgressView",
            "bar_style": "success",
            "description": "",
            "description_tooltip": null,
            "layout": "IPY_MODEL_409b1c2c732d42518302fdc4fc5ef497",
            "max": 16338506,
            "min": 0,
            "orientation": "horizontal",
            "style": "IPY_MODEL_bc1116ecf3ce4d8bb49daac21b20e186",
            "value": 16338506
          }
        },
        "fa75e346f27240219541e817b6740e03": {
          "model_module": "@jupyter-widgets/controls",
          "model_name": "HTMLModel",
          "model_module_version": "1.5.0",
          "state": {
            "_dom_classes": [],
            "_model_module": "@jupyter-widgets/controls",
            "_model_module_version": "1.5.0",
            "_model_name": "HTMLModel",
            "_view_count": null,
            "_view_module": "@jupyter-widgets/controls",
            "_view_module_version": "1.5.0",
            "_view_name": "HTMLView",
            "description": "",
            "description_tooltip": null,
            "layout": "IPY_MODEL_651658c0eed446938ed0ee68d77d8cf3",
            "placeholder": "​",
            "style": "IPY_MODEL_b032808459374124a64cd7841ac07373",
            "value": " 16.3M/16.3M [00:00&lt;00:00, 33.8MB/s]"
          }
        },
        "622341fca443439388dd3894825d135b": {
          "model_module": "@jupyter-widgets/base",
          "model_name": "LayoutModel",
          "model_module_version": "1.2.0",
          "state": {
            "_model_module": "@jupyter-widgets/base",
            "_model_module_version": "1.2.0",
            "_model_name": "LayoutModel",
            "_view_count": null,
            "_view_module": "@jupyter-widgets/base",
            "_view_module_version": "1.2.0",
            "_view_name": "LayoutView",
            "align_content": null,
            "align_items": null,
            "align_self": null,
            "border": null,
            "bottom": null,
            "display": null,
            "flex": null,
            "flex_flow": null,
            "grid_area": null,
            "grid_auto_columns": null,
            "grid_auto_flow": null,
            "grid_auto_rows": null,
            "grid_column": null,
            "grid_gap": null,
            "grid_row": null,
            "grid_template_areas": null,
            "grid_template_columns": null,
            "grid_template_rows": null,
            "height": null,
            "justify_content": null,
            "justify_items": null,
            "left": null,
            "margin": null,
            "max_height": null,
            "max_width": null,
            "min_height": null,
            "min_width": null,
            "object_fit": null,
            "object_position": null,
            "order": null,
            "overflow": null,
            "overflow_x": null,
            "overflow_y": null,
            "padding": null,
            "right": null,
            "top": null,
            "visibility": null,
            "width": null
          }
        },
        "4efca83c8ae94be785514af4838227fc": {
          "model_module": "@jupyter-widgets/base",
          "model_name": "LayoutModel",
          "model_module_version": "1.2.0",
          "state": {
            "_model_module": "@jupyter-widgets/base",
            "_model_module_version": "1.2.0",
            "_model_name": "LayoutModel",
            "_view_count": null,
            "_view_module": "@jupyter-widgets/base",
            "_view_module_version": "1.2.0",
            "_view_name": "LayoutView",
            "align_content": null,
            "align_items": null,
            "align_self": null,
            "border": null,
            "bottom": null,
            "display": null,
            "flex": null,
            "flex_flow": null,
            "grid_area": null,
            "grid_auto_columns": null,
            "grid_auto_flow": null,
            "grid_auto_rows": null,
            "grid_column": null,
            "grid_gap": null,
            "grid_row": null,
            "grid_template_areas": null,
            "grid_template_columns": null,
            "grid_template_rows": null,
            "height": null,
            "justify_content": null,
            "justify_items": null,
            "left": null,
            "margin": null,
            "max_height": null,
            "max_width": null,
            "min_height": null,
            "min_width": null,
            "object_fit": null,
            "object_position": null,
            "order": null,
            "overflow": null,
            "overflow_x": null,
            "overflow_y": null,
            "padding": null,
            "right": null,
            "top": null,
            "visibility": null,
            "width": null
          }
        },
        "8697abb4c0cd4084a75dcecd3416d96a": {
          "model_module": "@jupyter-widgets/controls",
          "model_name": "DescriptionStyleModel",
          "model_module_version": "1.5.0",
          "state": {
            "_model_module": "@jupyter-widgets/controls",
            "_model_module_version": "1.5.0",
            "_model_name": "DescriptionStyleModel",
            "_view_count": null,
            "_view_module": "@jupyter-widgets/base",
            "_view_module_version": "1.2.0",
            "_view_name": "StyleView",
            "description_width": ""
          }
        },
        "409b1c2c732d42518302fdc4fc5ef497": {
          "model_module": "@jupyter-widgets/base",
          "model_name": "LayoutModel",
          "model_module_version": "1.2.0",
          "state": {
            "_model_module": "@jupyter-widgets/base",
            "_model_module_version": "1.2.0",
            "_model_name": "LayoutModel",
            "_view_count": null,
            "_view_module": "@jupyter-widgets/base",
            "_view_module_version": "1.2.0",
            "_view_name": "LayoutView",
            "align_content": null,
            "align_items": null,
            "align_self": null,
            "border": null,
            "bottom": null,
            "display": null,
            "flex": null,
            "flex_flow": null,
            "grid_area": null,
            "grid_auto_columns": null,
            "grid_auto_flow": null,
            "grid_auto_rows": null,
            "grid_column": null,
            "grid_gap": null,
            "grid_row": null,
            "grid_template_areas": null,
            "grid_template_columns": null,
            "grid_template_rows": null,
            "height": null,
            "justify_content": null,
            "justify_items": null,
            "left": null,
            "margin": null,
            "max_height": null,
            "max_width": null,
            "min_height": null,
            "min_width": null,
            "object_fit": null,
            "object_position": null,
            "order": null,
            "overflow": null,
            "overflow_x": null,
            "overflow_y": null,
            "padding": null,
            "right": null,
            "top": null,
            "visibility": null,
            "width": null
          }
        },
        "bc1116ecf3ce4d8bb49daac21b20e186": {
          "model_module": "@jupyter-widgets/controls",
          "model_name": "ProgressStyleModel",
          "model_module_version": "1.5.0",
          "state": {
            "_model_module": "@jupyter-widgets/controls",
            "_model_module_version": "1.5.0",
            "_model_name": "ProgressStyleModel",
            "_view_count": null,
            "_view_module": "@jupyter-widgets/base",
            "_view_module_version": "1.2.0",
            "_view_name": "StyleView",
            "bar_color": null,
            "description_width": ""
          }
        },
        "651658c0eed446938ed0ee68d77d8cf3": {
          "model_module": "@jupyter-widgets/base",
          "model_name": "LayoutModel",
          "model_module_version": "1.2.0",
          "state": {
            "_model_module": "@jupyter-widgets/base",
            "_model_module_version": "1.2.0",
            "_model_name": "LayoutModel",
            "_view_count": null,
            "_view_module": "@jupyter-widgets/base",
            "_view_module_version": "1.2.0",
            "_view_name": "LayoutView",
            "align_content": null,
            "align_items": null,
            "align_self": null,
            "border": null,
            "bottom": null,
            "display": null,
            "flex": null,
            "flex_flow": null,
            "grid_area": null,
            "grid_auto_columns": null,
            "grid_auto_flow": null,
            "grid_auto_rows": null,
            "grid_column": null,
            "grid_gap": null,
            "grid_row": null,
            "grid_template_areas": null,
            "grid_template_columns": null,
            "grid_template_rows": null,
            "height": null,
            "justify_content": null,
            "justify_items": null,
            "left": null,
            "margin": null,
            "max_height": null,
            "max_width": null,
            "min_height": null,
            "min_width": null,
            "object_fit": null,
            "object_position": null,
            "order": null,
            "overflow": null,
            "overflow_x": null,
            "overflow_y": null,
            "padding": null,
            "right": null,
            "top": null,
            "visibility": null,
            "width": null
          }
        },
        "b032808459374124a64cd7841ac07373": {
          "model_module": "@jupyter-widgets/controls",
          "model_name": "DescriptionStyleModel",
          "model_module_version": "1.5.0",
          "state": {
            "_model_module": "@jupyter-widgets/controls",
            "_model_module_version": "1.5.0",
            "_model_name": "DescriptionStyleModel",
            "_view_count": null,
            "_view_module": "@jupyter-widgets/base",
            "_view_module_version": "1.2.0",
            "_view_name": "StyleView",
            "description_width": ""
          }
        }
      }
    }
  },
  "cells": [
    {
      "cell_type": "markdown",
      "source": [
        "# Loading Dataset Splits and CLAHE Transformations\n",
        "\n",
        "We load the train and test splits from the previous experiment to maintain consistency. Additionally, we retrieve the precomputed CLAHE transformations, ensuring the same enhanced images are used for inference and further training."
      ],
      "metadata": {
        "id": "7S7FGAk6ph1B"
      }
    },
    {
      "cell_type": "code",
      "source": [
        "import pandas as pd\n",
        "\n",
        "# Paths to dataset split files\n",
        "dataset_csv_path = \"/content/drive/MyDrive/FracAtlas/FracAtlas/images/dataset.csv\"\n",
        "train_split_path = \"/content/drive/MyDrive/FracAtlas/splits/train_split.csv\"\n",
        "test_split_path = \"/content/drive/MyDrive/FracAtlas/splits/test_split.csv\"\n",
        "\n",
        "# Load dataset CSV (contains the original image paths for train/test)\n",
        "df_train_split = pd.read_csv(train_split_path)\n",
        "df_test_split = pd.read_csv(test_split_path)\n",
        "\n",
        "print(\"✅ Train Split Loaded:\\n\", df_train_split.head())\n",
        "print(\"✅ Test Split Loaded:\\n\", df_test_split.head())"
      ],
      "metadata": {
        "id": "i4KI0VoORJPM",
        "outputId": "06f1aee7-2597-4aa5-b1a1-64b0b758a8a2",
        "colab": {
          "base_uri": "https://localhost:8080/"
        }
      },
      "execution_count": null,
      "outputs": [
        {
          "output_type": "stream",
          "name": "stdout",
          "text": [
            "✅ Train Split Loaded:\n",
            "                                           image_path\n",
            "0  /content/drive/MyDrive/FracAtlas/FracAtlas/ima...\n",
            "1  /content/drive/MyDrive/FracAtlas/FracAtlas/ima...\n",
            "2  /content/drive/MyDrive/FracAtlas/FracAtlas/ima...\n",
            "3  /content/drive/MyDrive/FracAtlas/FracAtlas/ima...\n",
            "4  /content/drive/MyDrive/FracAtlas/FracAtlas/ima...\n",
            "✅ Test Split Loaded:\n",
            "                                           image_path\n",
            "0  /content/drive/MyDrive/FracAtlas/FracAtlas/ima...\n",
            "1  /content/drive/MyDrive/FracAtlas/FracAtlas/ima...\n",
            "2  /content/drive/MyDrive/FracAtlas/FracAtlas/ima...\n",
            "3  /content/drive/MyDrive/FracAtlas/FracAtlas/ima...\n",
            "4  /content/drive/MyDrive/FracAtlas/FracAtlas/ima...\n"
          ]
        }
      ]
    },
    {
      "cell_type": "code",
      "source": [
        "# Path to precomputed CLAHE transformation file\n",
        "clahe_transform_path = \"/content/drive/MyDrive/FracAtlas/splits/clahe_transformations.csv\"\n",
        "\n",
        "# Load the CLAHE transformations file (contains exact image paths)\n",
        "df_clahe = pd.read_csv(clahe_transform_path)\n",
        "\n",
        "print(f\"✅ Loaded CLAHE transformations from {clahe_transform_path}\")"
      ],
      "metadata": {
        "id": "ro4cB7tXRJpe",
        "colab": {
          "base_uri": "https://localhost:8080/"
        },
        "outputId": "501bd99a-9b00-4fba-d52f-f7281dc09f21"
      },
      "execution_count": null,
      "outputs": [
        {
          "output_type": "stream",
          "name": "stdout",
          "text": [
            "✅ Loaded CLAHE transformations from /content/drive/MyDrive/FracAtlas/splits/clahe_transformations.csv\n"
          ]
        }
      ]
    },
    {
      "cell_type": "markdown",
      "source": [
        "# Loading Precomputed CLAHE-Enhanced Dataset\n",
        "\n",
        "We define a dataset class that directly loads precomputed CLAHE-transformed images, avoiding redundant transformations. The dataset ensures consistency with previous training while applying only resizing, normalization, and tensor conversion. Corrupted images are handled gracefully by skipping them. DataLoaders are created for efficient batch processing."
      ],
      "metadata": {
        "id": "MbwlJ_vmpxnD"
      }
    },
    {
      "cell_type": "code",
      "source": [
        "import torch\n",
        "from torch.utils.data import Dataset\n",
        "import pandas as pd\n",
        "import torchvision.transforms as transforms\n",
        "from PIL import Image, UnidentifiedImageError\n",
        "import warnings\n",
        "from torch.utils.data import DataLoader\n",
        "\n",
        "# Path to precomputed CLAHE transformation file\n",
        "clahe_transform_path = \"/content/drive/MyDrive/FracAtlas/splits/clahe_transformations.csv\"\n",
        "\n",
        "# Load the CLAHE transformations file (contains exact image paths)\n",
        "df_clahe = pd.read_csv(clahe_transform_path)\n",
        "\n",
        "print(f\"✅ Loaded CLAHE transformations from {clahe_transform_path}\")\n",
        "\n",
        "# Define the dataset class using precomputed CLAHE transformations\n",
        "class FractureDatasetWithPrecomputedCLAHE(Dataset):\n",
        "    def __init__(self, csv_file):\n",
        "        self.data = pd.read_csv(csv_file)  # Load image paths (with CLAHE applied)\n",
        "\n",
        "        # Define the same transformations as before\n",
        "        self.transform = transforms.Compose([\n",
        "            transforms.Resize((224, 224)),  # Resize first\n",
        "            transforms.ToTensor(),\n",
        "            transforms.Normalize(mean=[0.5, 0.5, 0.5], std=[0.5, 0.5, 0.5])\n",
        "        ])\n",
        "\n",
        "    def __len__(self):\n",
        "        return len(self.data)\n",
        "\n",
        "    def __getitem__(self, idx):\n",
        "        image_path = self.data.iloc[idx, 0]  # Get the exact transformed image path\n",
        "\n",
        "        try:\n",
        "            # Load precomputed CLAHE image (it was already transformed)\n",
        "            image = Image.open(image_path).convert(\"RGB\")\n",
        "            image = self.transform(image)  # Apply normalization & tensor conversion\n",
        "\n",
        "            # Assign label\n",
        "            label = 1 if \"Fractured\" in image_path else 0\n",
        "            return image, torch.tensor(label, dtype=torch.long)\n",
        "\n",
        "        except (OSError, UnidentifiedImageError) as e:\n",
        "            #warnings.warn(f\"⚠️ Skipping corrupted image: {image_path} - {e}\")\n",
        "            return self.__getitem__((idx + 1) % len(self.data))  # Try next valid image\n",
        "\n",
        "print(\"✅ Dataset now correctly loads precomputed CLAHE transformations without reapplying them.\")"
      ],
      "metadata": {
        "id": "vL2PzautYUbD",
        "colab": {
          "base_uri": "https://localhost:8080/"
        },
        "outputId": "fa37c20a-6f6b-48af-ddc3-6941bcd94eb8"
      },
      "execution_count": null,
      "outputs": [
        {
          "output_type": "stream",
          "name": "stdout",
          "text": [
            "✅ Loaded CLAHE transformations from /content/drive/MyDrive/FracAtlas/splits/clahe_transformations.csv\n",
            "✅ Dataset now correctly loads precomputed CLAHE transformations without reapplying them.\n"
          ]
        }
      ]
    },
    {
      "cell_type": "code",
      "source": [
        "# Create dataset instances\n",
        "train_dataset = FractureDatasetWithPrecomputedCLAHE(train_split_path)\n",
        "test_dataset = FractureDatasetWithPrecomputedCLAHE(test_split_path)\n",
        "\n",
        "# Create DataLoaders\n",
        "train_loader = DataLoader(train_dataset, batch_size=8, shuffle=False, num_workers=2)\n",
        "test_loader = DataLoader(test_dataset, batch_size=8, shuffle=False, num_workers=2)\n",
        "\n",
        "print(\"✅ DataLoader created using CLAHE transformations!\")"
      ],
      "metadata": {
        "colab": {
          "base_uri": "https://localhost:8080/"
        },
        "id": "Zn-FxHtLRnlM",
        "outputId": "7b5bf5bb-28af-43ef-aa97-6e8b8897a30a"
      },
      "execution_count": null,
      "outputs": [
        {
          "output_type": "stream",
          "name": "stdout",
          "text": [
            "✅ DataLoader created using CLAHE transformations!\n"
          ]
        }
      ]
    },
    {
      "cell_type": "markdown",
      "source": [
        "# Loading and Fine-Tuning the Best Model (CLAHE-Enhanced EfficientNet)\n",
        "\n",
        "We load the previously trained EfficientNet model (CLAHE variant) and fine-tune it using the same dataset. The training function is enhanced with:\n",
        "\n",
        "Cross-entropy loss for classification.\n",
        "Learning rate scheduling (ReduceLROnPlateau) to dynamically adjust the learning rate based on validation loss.\n",
        "Additional evaluation metrics: Precision and Recall, alongside Accuracy and F1-score, for a more comprehensive performance assessment.\n",
        "This setup ensures optimal model refinement while leveraging the best-performing transformation."
      ],
      "metadata": {
        "id": "pvrcwczPp6XA"
      }
    },
    {
      "cell_type": "code",
      "source": [
        "import torch\n",
        "import torch.nn as nn\n",
        "from torchvision import models\n",
        "import torch.optim as optim\n",
        "from torch.optim.lr_scheduler import ReduceLROnPlateau\n",
        "from tqdm import tqdm\n",
        "from sklearn.metrics import accuracy_score, f1_score, precision_score, recall_score\n",
        "\n",
        "# Define the device\n",
        "device = torch.device(\"cuda\" if torch.cuda.is_available() else \"cpu\")\n",
        "\n",
        "# Path to the previously trained CLAHE model\n",
        "model_path = \"/content/drive/MyDrive/FracAtlas/models/efficientnet_clahe_lr0.0001_final.pth\"\n",
        "\n",
        "# Define the model architecture\n",
        "model = models.efficientnet_b0(pretrained=False)\n",
        "model.classifier[1] = nn.Linear(model.classifier[1].in_features, 2)\n",
        "model.load_state_dict(torch.load(model_path, map_location=device))\n",
        "model.to(device)\n",
        "\n",
        "# Define optimizer\n",
        "optimizer = optim.Adam(model.parameters(), lr=0.0001)\n",
        "\n",
        "# Define the training function\n",
        "def train_model(model, optimizer, train_loader, test_loader, num_epochs):\n",
        "    criterion = nn.CrossEntropyLoss()\n",
        "    history = []\n",
        "\n",
        "    # ✅ Initialize Learning Rate Scheduler\n",
        "    scheduler = ReduceLROnPlateau(optimizer, mode='min', factor=0.5, patience=3, verbose=True)\n",
        "\n",
        "    for epoch in range(1, num_epochs + 1):\n",
        "        model.train()\n",
        "        running_loss = 0.0\n",
        "        all_preds, all_labels = [], []\n",
        "\n",
        "        # Progress bar for training\n",
        "        progress_bar = tqdm(train_loader, desc=f\"Epoch {epoch}/{num_epochs}\", leave=True)\n",
        "\n",
        "        for images, labels in progress_bar:\n",
        "            images, labels = images.to(device), labels.to(device)\n",
        "\n",
        "            optimizer.zero_grad()\n",
        "            outputs = model(images)\n",
        "            loss = criterion(outputs, labels)\n",
        "            loss.backward()\n",
        "            optimizer.step()\n",
        "\n",
        "            running_loss += loss.item()\n",
        "            preds = torch.argmax(outputs, dim=1)\n",
        "            all_preds.extend(preds.cpu().numpy())\n",
        "            all_labels.extend(labels.cpu().numpy())\n",
        "\n",
        "            # Update tqdm description with live loss value\n",
        "            progress_bar.set_postfix(loss=loss.item())\n",
        "\n",
        "        # Compute training metrics\n",
        "        train_loss = running_loss / len(train_loader)\n",
        "        train_acc = accuracy_score(all_labels, all_preds)\n",
        "        train_f1 = f1_score(all_labels, all_preds, average=\"weighted\")\n",
        "        train_precision = precision_score(all_labels, all_preds, average=\"weighted\", zero_division=0)\n",
        "        train_recall = recall_score(all_labels, all_preds, average=\"weighted\", zero_division=0)\n",
        "\n",
        "        # Validation phase\n",
        "        model.eval()\n",
        "        val_loss, val_correct, val_total = 0.0, 0, 0\n",
        "        all_val_preds, all_val_labels = [], []\n",
        "\n",
        "        with torch.no_grad():\n",
        "            for images, labels in test_loader:\n",
        "                images, labels = images.to(device), labels.to(device)\n",
        "                outputs = model(images)\n",
        "                loss = criterion(outputs, labels)\n",
        "\n",
        "                val_loss += loss.item()\n",
        "                preds = torch.argmax(outputs, dim=1)\n",
        "                all_val_preds.extend(preds.cpu().numpy())\n",
        "                all_val_labels.extend(labels.cpu().numpy())\n",
        "\n",
        "                val_correct += (preds == labels).sum().item()\n",
        "                val_total += labels.size(0)\n",
        "\n",
        "        val_loss /= len(test_loader)\n",
        "        val_acc = accuracy_score(all_val_labels, all_val_preds)\n",
        "        val_f1 = f1_score(all_val_labels, all_val_preds, average=\"weighted\")\n",
        "        val_precision = precision_score(all_val_labels, all_val_preds, average=\"weighted\", zero_division=0)\n",
        "        val_recall = recall_score(all_val_labels, all_val_preds, average=\"weighted\", zero_division=0)\n",
        "\n",
        "        # Save training history\n",
        "        history.append([\n",
        "            epoch, train_loss, train_acc, train_f1, train_precision, train_recall,\n",
        "            val_loss, val_acc, val_f1, val_precision, val_recall\n",
        "        ])\n",
        "\n",
        "        # Print progress\n",
        "        print(f\"Epoch {epoch}/{num_epochs} | Train Loss: {train_loss:.4f} | Train Acc: {train_acc:.4f} | Train F1: {train_f1:.4f} | Train Precision: {train_precision:.4f} | Train Recall: {train_recall:.4f}\")\n",
        "        print(f\"                  | Val Loss: {val_loss:.4f} | Val Acc: {val_acc:.4f} | Val F1: {val_f1:.4f} | Val Precision: {val_precision:.4f} | Val Recall: {val_recall:.4f}\")\n",
        "\n",
        "        # ✅ Adjust learning rate based on validation loss\n",
        "        scheduler.step(val_loss)\n",
        "\n",
        "    return history"
      ],
      "metadata": {
        "colab": {
          "base_uri": "https://localhost:8080/"
        },
        "id": "9AZeyygjRqJC",
        "outputId": "dcca55dc-dc1f-4d5d-a1b0-656e8809771a"
      },
      "execution_count": null,
      "outputs": [
        {
          "output_type": "stream",
          "name": "stderr",
          "text": [
            "/usr/local/lib/python3.11/dist-packages/torchvision/models/_utils.py:208: UserWarning: The parameter 'pretrained' is deprecated since 0.13 and may be removed in the future, please use 'weights' instead.\n",
            "  warnings.warn(\n",
            "/usr/local/lib/python3.11/dist-packages/torchvision/models/_utils.py:223: UserWarning: Arguments other than a weight enum or `None` for 'weights' are deprecated since 0.13 and may be removed in the future. The current behavior is equivalent to passing `weights=None`.\n",
            "  warnings.warn(msg)\n",
            "<ipython-input-6-73921a8d30ca>:18: FutureWarning: You are using `torch.load` with `weights_only=False` (the current default value), which uses the default pickle module implicitly. It is possible to construct malicious pickle data which will execute arbitrary code during unpickling (See https://github.com/pytorch/pytorch/blob/main/SECURITY.md#untrusted-models for more details). In a future release, the default value for `weights_only` will be flipped to `True`. This limits the functions that could be executed during unpickling. Arbitrary objects will no longer be allowed to be loaded via this mode unless they are explicitly allowlisted by the user via `torch.serialization.add_safe_globals`. We recommend you start setting `weights_only=True` for any use case where you don't have full control of the loaded file. Please open an issue on GitHub for any issues related to this experimental feature.\n",
            "  model.load_state_dict(torch.load(model_path, map_location=device))\n"
          ]
        }
      ]
    },
    {
      "cell_type": "code",
      "source": [
        "# Train EfficientNet again with the CLAHE transformations\n",
        "train_model(model, optimizer, train_loader, test_loader, 50)"
      ],
      "metadata": {
        "colab": {
          "base_uri": "https://localhost:8080/"
        },
        "id": "9f5XatI1R0KO",
        "outputId": "84d00f85-4349-491b-8187-2f059ca7f827"
      },
      "execution_count": null,
      "outputs": [
        {
          "output_type": "stream",
          "name": "stderr",
          "text": [
            "/usr/local/lib/python3.11/dist-packages/torch/optim/lr_scheduler.py:62: UserWarning: The verbose parameter is deprecated. Please use get_last_lr() to access the learning rate.\n",
            "  warnings.warn(\n",
            "Epoch 1/50: 100%|██████████| 142/142 [08:35<00:00,  3.63s/it, loss=0.364]\n"
          ]
        },
        {
          "output_type": "stream",
          "name": "stdout",
          "text": [
            "Epoch 1/50 | Train Loss: 0.1023 | Train Acc: 0.9566 | Train F1: 0.9566 | Train Precision: 0.9566 | Train Recall: 0.9566\n",
            "                  | Val Loss: 0.9288 | Val Acc: 0.8049 | Val F1: 0.8049 | Val Precision: 0.8052 | Val Recall: 0.8049\n"
          ]
        },
        {
          "output_type": "stream",
          "name": "stderr",
          "text": [
            "Epoch 2/50: 100%|██████████| 142/142 [00:22<00:00,  6.38it/s, loss=0.0641]\n"
          ]
        },
        {
          "output_type": "stream",
          "name": "stdout",
          "text": [
            "Epoch 2/50 | Train Loss: 0.0562 | Train Acc: 0.9832 | Train F1: 0.9832 | Train Precision: 0.9832 | Train Recall: 0.9832\n",
            "                  | Val Loss: 0.8141 | Val Acc: 0.8118 | Val F1: 0.8119 | Val Precision: 0.8122 | Val Recall: 0.8118\n"
          ]
        },
        {
          "output_type": "stream",
          "name": "stderr",
          "text": [
            "Epoch 3/50: 100%|██████████| 142/142 [00:21<00:00,  6.52it/s, loss=0.12]\n"
          ]
        },
        {
          "output_type": "stream",
          "name": "stdout",
          "text": [
            "Epoch 3/50 | Train Loss: 0.0506 | Train Acc: 0.9841 | Train F1: 0.9841 | Train Precision: 0.9842 | Train Recall: 0.9841\n",
            "                  | Val Loss: 0.9742 | Val Acc: 0.8188 | Val F1: 0.8188 | Val Precision: 0.8195 | Val Recall: 0.8188\n"
          ]
        },
        {
          "output_type": "stream",
          "name": "stderr",
          "text": [
            "Epoch 4/50: 100%|██████████| 142/142 [00:21<00:00,  6.76it/s, loss=0.00707]\n"
          ]
        },
        {
          "output_type": "stream",
          "name": "stdout",
          "text": [
            "Epoch 4/50 | Train Loss: 0.0311 | Train Acc: 0.9911 | Train F1: 0.9911 | Train Precision: 0.9911 | Train Recall: 0.9911\n",
            "                  | Val Loss: 0.9876 | Val Acc: 0.7979 | Val F1: 0.7979 | Val Precision: 0.7980 | Val Recall: 0.7979\n"
          ]
        },
        {
          "output_type": "stream",
          "name": "stderr",
          "text": [
            "Epoch 5/50: 100%|██████████| 142/142 [00:20<00:00,  6.76it/s, loss=0.00348]\n"
          ]
        },
        {
          "output_type": "stream",
          "name": "stdout",
          "text": [
            "Epoch 5/50 | Train Loss: 0.0227 | Train Acc: 0.9956 | Train F1: 0.9956 | Train Precision: 0.9956 | Train Recall: 0.9956\n",
            "                  | Val Loss: 0.8715 | Val Acc: 0.8084 | Val F1: 0.8083 | Val Precision: 0.8084 | Val Recall: 0.8084\n"
          ]
        },
        {
          "output_type": "stream",
          "name": "stderr",
          "text": [
            "Epoch 6/50: 100%|██████████| 142/142 [00:21<00:00,  6.71it/s, loss=0.00179]\n"
          ]
        },
        {
          "output_type": "stream",
          "name": "stdout",
          "text": [
            "Epoch 6/50 | Train Loss: 0.0188 | Train Acc: 0.9947 | Train F1: 0.9947 | Train Precision: 0.9947 | Train Recall: 0.9947\n",
            "                  | Val Loss: 0.9651 | Val Acc: 0.8014 | Val F1: 0.8014 | Val Precision: 0.8023 | Val Recall: 0.8014\n"
          ]
        },
        {
          "output_type": "stream",
          "name": "stderr",
          "text": [
            "Epoch 7/50: 100%|██████████| 142/142 [00:21<00:00,  6.54it/s, loss=0.00401]\n"
          ]
        },
        {
          "output_type": "stream",
          "name": "stdout",
          "text": [
            "Epoch 7/50 | Train Loss: 0.0065 | Train Acc: 0.9991 | Train F1: 0.9991 | Train Precision: 0.9991 | Train Recall: 0.9991\n",
            "                  | Val Loss: 0.9516 | Val Acc: 0.8084 | Val F1: 0.8083 | Val Precision: 0.8098 | Val Recall: 0.8084\n"
          ]
        },
        {
          "output_type": "stream",
          "name": "stderr",
          "text": [
            "Epoch 8/50: 100%|██████████| 142/142 [00:21<00:00,  6.66it/s, loss=0.0033]\n"
          ]
        },
        {
          "output_type": "stream",
          "name": "stdout",
          "text": [
            "Epoch 8/50 | Train Loss: 0.0080 | Train Acc: 0.9982 | Train F1: 0.9982 | Train Precision: 0.9982 | Train Recall: 0.9982\n",
            "                  | Val Loss: 0.9752 | Val Acc: 0.8188 | Val F1: 0.8188 | Val Precision: 0.8189 | Val Recall: 0.8188\n"
          ]
        },
        {
          "output_type": "stream",
          "name": "stderr",
          "text": [
            "Epoch 9/50: 100%|██████████| 142/142 [00:21<00:00,  6.71it/s, loss=0.00266]\n"
          ]
        },
        {
          "output_type": "stream",
          "name": "stdout",
          "text": [
            "Epoch 9/50 | Train Loss: 0.0026 | Train Acc: 1.0000 | Train F1: 1.0000 | Train Precision: 1.0000 | Train Recall: 1.0000\n",
            "                  | Val Loss: 0.9255 | Val Acc: 0.8223 | Val F1: 0.8223 | Val Precision: 0.8223 | Val Recall: 0.8223\n"
          ]
        },
        {
          "output_type": "stream",
          "name": "stderr",
          "text": [
            "Epoch 10/50: 100%|██████████| 142/142 [00:21<00:00,  6.75it/s, loss=0.00254]\n"
          ]
        },
        {
          "output_type": "stream",
          "name": "stdout",
          "text": [
            "Epoch 10/50 | Train Loss: 0.0067 | Train Acc: 0.9982 | Train F1: 0.9982 | Train Precision: 0.9982 | Train Recall: 0.9982\n",
            "                  | Val Loss: 1.0112 | Val Acc: 0.8118 | Val F1: 0.8118 | Val Precision: 0.8125 | Val Recall: 0.8118\n"
          ]
        },
        {
          "output_type": "stream",
          "name": "stderr",
          "text": [
            "Epoch 11/50: 100%|██████████| 142/142 [00:21<00:00,  6.65it/s, loss=0.219]\n"
          ]
        },
        {
          "output_type": "stream",
          "name": "stdout",
          "text": [
            "Epoch 11/50 | Train Loss: 0.0055 | Train Acc: 0.9991 | Train F1: 0.9991 | Train Precision: 0.9991 | Train Recall: 0.9991\n",
            "                  | Val Loss: 0.9419 | Val Acc: 0.8153 | Val F1: 0.8153 | Val Precision: 0.8155 | Val Recall: 0.8153\n"
          ]
        },
        {
          "output_type": "stream",
          "name": "stderr",
          "text": [
            "Epoch 12/50: 100%|██████████| 142/142 [00:21<00:00,  6.53it/s, loss=0.00395]\n"
          ]
        },
        {
          "output_type": "stream",
          "name": "stdout",
          "text": [
            "Epoch 12/50 | Train Loss: 0.0027 | Train Acc: 1.0000 | Train F1: 1.0000 | Train Precision: 1.0000 | Train Recall: 1.0000\n",
            "                  | Val Loss: 0.9189 | Val Acc: 0.8258 | Val F1: 0.8258 | Val Precision: 0.8259 | Val Recall: 0.8258\n"
          ]
        },
        {
          "output_type": "stream",
          "name": "stderr",
          "text": [
            "Epoch 13/50: 100%|██████████| 142/142 [00:22<00:00,  6.43it/s, loss=0.00341]\n"
          ]
        },
        {
          "output_type": "stream",
          "name": "stdout",
          "text": [
            "Epoch 13/50 | Train Loss: 0.0030 | Train Acc: 0.9991 | Train F1: 0.9991 | Train Precision: 0.9991 | Train Recall: 0.9991\n",
            "                  | Val Loss: 0.9432 | Val Acc: 0.8153 | Val F1: 0.8153 | Val Precision: 0.8153 | Val Recall: 0.8153\n"
          ]
        },
        {
          "output_type": "stream",
          "name": "stderr",
          "text": [
            "Epoch 14/50: 100%|██████████| 142/142 [00:22<00:00,  6.18it/s, loss=0.00158]\n"
          ]
        },
        {
          "output_type": "stream",
          "name": "stdout",
          "text": [
            "Epoch 14/50 | Train Loss: 0.0025 | Train Acc: 1.0000 | Train F1: 1.0000 | Train Precision: 1.0000 | Train Recall: 1.0000\n",
            "                  | Val Loss: 1.0112 | Val Acc: 0.8293 | Val F1: 0.8293 | Val Precision: 0.8295 | Val Recall: 0.8293\n"
          ]
        },
        {
          "output_type": "stream",
          "name": "stderr",
          "text": [
            "Epoch 15/50: 100%|██████████| 142/142 [00:23<00:00,  6.02it/s, loss=0.00126]\n"
          ]
        },
        {
          "output_type": "stream",
          "name": "stdout",
          "text": [
            "Epoch 15/50 | Train Loss: 0.0020 | Train Acc: 1.0000 | Train F1: 1.0000 | Train Precision: 1.0000 | Train Recall: 1.0000\n",
            "                  | Val Loss: 1.0424 | Val Acc: 0.8258 | Val F1: 0.8258 | Val Precision: 0.8258 | Val Recall: 0.8258\n"
          ]
        },
        {
          "output_type": "stream",
          "name": "stderr",
          "text": [
            "Epoch 16/50: 100%|██████████| 142/142 [00:22<00:00,  6.38it/s, loss=0.002]\n"
          ]
        },
        {
          "output_type": "stream",
          "name": "stdout",
          "text": [
            "Epoch 16/50 | Train Loss: 0.0017 | Train Acc: 1.0000 | Train F1: 1.0000 | Train Precision: 1.0000 | Train Recall: 1.0000\n",
            "                  | Val Loss: 1.0235 | Val Acc: 0.8223 | Val F1: 0.8223 | Val Precision: 0.8223 | Val Recall: 0.8223\n"
          ]
        },
        {
          "output_type": "stream",
          "name": "stderr",
          "text": [
            "Epoch 17/50: 100%|██████████| 142/142 [00:25<00:00,  5.55it/s, loss=0.00618]\n"
          ]
        },
        {
          "output_type": "stream",
          "name": "stdout",
          "text": [
            "Epoch 17/50 | Train Loss: 0.0050 | Train Acc: 0.9982 | Train F1: 0.9982 | Train Precision: 0.9982 | Train Recall: 0.9982\n",
            "                  | Val Loss: 0.9547 | Val Acc: 0.8258 | Val F1: 0.8258 | Val Precision: 0.8259 | Val Recall: 0.8258\n"
          ]
        },
        {
          "output_type": "stream",
          "name": "stderr",
          "text": [
            "Epoch 18/50: 100%|██████████| 142/142 [00:21<00:00,  6.64it/s, loss=0.00125]\n"
          ]
        },
        {
          "output_type": "stream",
          "name": "stdout",
          "text": [
            "Epoch 18/50 | Train Loss: 0.0020 | Train Acc: 1.0000 | Train F1: 1.0000 | Train Precision: 1.0000 | Train Recall: 1.0000\n",
            "                  | Val Loss: 0.9428 | Val Acc: 0.8188 | Val F1: 0.8188 | Val Precision: 0.8188 | Val Recall: 0.8188\n"
          ]
        },
        {
          "output_type": "stream",
          "name": "stderr",
          "text": [
            "Epoch 19/50: 100%|██████████| 142/142 [00:21<00:00,  6.63it/s, loss=0.00134]\n"
          ]
        },
        {
          "output_type": "stream",
          "name": "stdout",
          "text": [
            "Epoch 19/50 | Train Loss: 0.0014 | Train Acc: 1.0000 | Train F1: 1.0000 | Train Precision: 1.0000 | Train Recall: 1.0000\n",
            "                  | Val Loss: 0.9618 | Val Acc: 0.8153 | Val F1: 0.8153 | Val Precision: 0.8153 | Val Recall: 0.8153\n"
          ]
        },
        {
          "output_type": "stream",
          "name": "stderr",
          "text": [
            "Epoch 20/50: 100%|██████████| 142/142 [00:21<00:00,  6.67it/s, loss=0.00928]\n"
          ]
        },
        {
          "output_type": "stream",
          "name": "stdout",
          "text": [
            "Epoch 20/50 | Train Loss: 0.0015 | Train Acc: 1.0000 | Train F1: 1.0000 | Train Precision: 1.0000 | Train Recall: 1.0000\n",
            "                  | Val Loss: 0.9517 | Val Acc: 0.8188 | Val F1: 0.8188 | Val Precision: 0.8195 | Val Recall: 0.8188\n"
          ]
        },
        {
          "output_type": "stream",
          "name": "stderr",
          "text": [
            "Epoch 21/50: 100%|██████████| 142/142 [00:21<00:00,  6.60it/s, loss=0.00165]\n"
          ]
        },
        {
          "output_type": "stream",
          "name": "stdout",
          "text": [
            "Epoch 21/50 | Train Loss: 0.0015 | Train Acc: 1.0000 | Train F1: 1.0000 | Train Precision: 1.0000 | Train Recall: 1.0000\n",
            "                  | Val Loss: 0.9786 | Val Acc: 0.8188 | Val F1: 0.8188 | Val Precision: 0.8195 | Val Recall: 0.8188\n"
          ]
        },
        {
          "output_type": "stream",
          "name": "stderr",
          "text": [
            "Epoch 22/50: 100%|██████████| 142/142 [00:21<00:00,  6.55it/s, loss=0.000853]\n"
          ]
        },
        {
          "output_type": "stream",
          "name": "stdout",
          "text": [
            "Epoch 22/50 | Train Loss: 0.0016 | Train Acc: 1.0000 | Train F1: 1.0000 | Train Precision: 1.0000 | Train Recall: 1.0000\n",
            "                  | Val Loss: 0.9365 | Val Acc: 0.8188 | Val F1: 0.8188 | Val Precision: 0.8195 | Val Recall: 0.8188\n"
          ]
        },
        {
          "output_type": "stream",
          "name": "stderr",
          "text": [
            "Epoch 23/50: 100%|██████████| 142/142 [00:21<00:00,  6.60it/s, loss=0.000753]\n"
          ]
        },
        {
          "output_type": "stream",
          "name": "stdout",
          "text": [
            "Epoch 23/50 | Train Loss: 0.0010 | Train Acc: 1.0000 | Train F1: 1.0000 | Train Precision: 1.0000 | Train Recall: 1.0000\n",
            "                  | Val Loss: 0.9322 | Val Acc: 0.8153 | Val F1: 0.8153 | Val Precision: 0.8162 | Val Recall: 0.8153\n"
          ]
        },
        {
          "output_type": "stream",
          "name": "stderr",
          "text": [
            "Epoch 24/50: 100%|██████████| 142/142 [00:29<00:00,  4.77it/s, loss=0.00395]\n"
          ]
        },
        {
          "output_type": "stream",
          "name": "stdout",
          "text": [
            "Epoch 24/50 | Train Loss: 0.0046 | Train Acc: 0.9982 | Train F1: 0.9982 | Train Precision: 0.9982 | Train Recall: 0.9982\n",
            "                  | Val Loss: 0.9451 | Val Acc: 0.8188 | Val F1: 0.8188 | Val Precision: 0.8195 | Val Recall: 0.8188\n"
          ]
        },
        {
          "output_type": "stream",
          "name": "stderr",
          "text": [
            "Epoch 25/50: 100%|██████████| 142/142 [00:23<00:00,  6.14it/s, loss=0.104]\n"
          ]
        },
        {
          "output_type": "stream",
          "name": "stdout",
          "text": [
            "Epoch 25/50 | Train Loss: 0.0020 | Train Acc: 1.0000 | Train F1: 1.0000 | Train Precision: 1.0000 | Train Recall: 1.0000\n",
            "                  | Val Loss: 0.9686 | Val Acc: 0.8223 | Val F1: 0.8223 | Val Precision: 0.8228 | Val Recall: 0.8223\n"
          ]
        },
        {
          "output_type": "stream",
          "name": "stderr",
          "text": [
            "Epoch 26/50: 100%|██████████| 142/142 [00:22<00:00,  6.20it/s, loss=0.000731]\n"
          ]
        },
        {
          "output_type": "stream",
          "name": "stdout",
          "text": [
            "Epoch 26/50 | Train Loss: 0.0012 | Train Acc: 1.0000 | Train F1: 1.0000 | Train Precision: 1.0000 | Train Recall: 1.0000\n",
            "                  | Val Loss: 0.9202 | Val Acc: 0.8258 | Val F1: 0.8258 | Val Precision: 0.8261 | Val Recall: 0.8258\n"
          ]
        },
        {
          "output_type": "stream",
          "name": "stderr",
          "text": [
            "Epoch 27/50: 100%|██████████| 142/142 [00:24<00:00,  5.90it/s, loss=0.0011]\n"
          ]
        },
        {
          "output_type": "stream",
          "name": "stdout",
          "text": [
            "Epoch 27/50 | Train Loss: 0.0028 | Train Acc: 0.9991 | Train F1: 0.9991 | Train Precision: 0.9991 | Train Recall: 0.9991\n",
            "                  | Val Loss: 0.9350 | Val Acc: 0.8223 | Val F1: 0.8223 | Val Precision: 0.8228 | Val Recall: 0.8223\n"
          ]
        },
        {
          "output_type": "stream",
          "name": "stderr",
          "text": [
            "Epoch 28/50: 100%|██████████| 142/142 [00:28<00:00,  5.05it/s, loss=0.00586]\n"
          ]
        },
        {
          "output_type": "stream",
          "name": "stdout",
          "text": [
            "Epoch 28/50 | Train Loss: 0.0014 | Train Acc: 1.0000 | Train F1: 1.0000 | Train Precision: 1.0000 | Train Recall: 1.0000\n",
            "                  | Val Loss: 0.9369 | Val Acc: 0.8258 | Val F1: 0.8258 | Val Precision: 0.8261 | Val Recall: 0.8258\n"
          ]
        },
        {
          "output_type": "stream",
          "name": "stderr",
          "text": [
            "Epoch 29/50: 100%|██████████| 142/142 [00:27<00:00,  5.11it/s, loss=0.00212]\n"
          ]
        },
        {
          "output_type": "stream",
          "name": "stdout",
          "text": [
            "Epoch 29/50 | Train Loss: 0.0012 | Train Acc: 1.0000 | Train F1: 1.0000 | Train Precision: 1.0000 | Train Recall: 1.0000\n",
            "                  | Val Loss: 0.9736 | Val Acc: 0.8153 | Val F1: 0.8153 | Val Precision: 0.8162 | Val Recall: 0.8153\n"
          ]
        },
        {
          "output_type": "stream",
          "name": "stderr",
          "text": [
            "Epoch 30/50: 100%|██████████| 142/142 [00:22<00:00,  6.21it/s, loss=0.000692]\n"
          ]
        },
        {
          "output_type": "stream",
          "name": "stdout",
          "text": [
            "Epoch 30/50 | Train Loss: 0.0010 | Train Acc: 1.0000 | Train F1: 1.0000 | Train Precision: 1.0000 | Train Recall: 1.0000\n",
            "                  | Val Loss: 0.9466 | Val Acc: 0.8223 | Val F1: 0.8223 | Val Precision: 0.8228 | Val Recall: 0.8223\n"
          ]
        },
        {
          "output_type": "stream",
          "name": "stderr",
          "text": [
            "Epoch 31/50: 100%|██████████| 142/142 [00:22<00:00,  6.27it/s, loss=0.00252]\n"
          ]
        },
        {
          "output_type": "stream",
          "name": "stdout",
          "text": [
            "Epoch 31/50 | Train Loss: 0.0012 | Train Acc: 1.0000 | Train F1: 1.0000 | Train Precision: 1.0000 | Train Recall: 1.0000\n",
            "                  | Val Loss: 0.9536 | Val Acc: 0.8223 | Val F1: 0.8223 | Val Precision: 0.8228 | Val Recall: 0.8223\n"
          ]
        },
        {
          "output_type": "stream",
          "name": "stderr",
          "text": [
            "Epoch 32/50: 100%|██████████| 142/142 [00:23<00:00,  6.12it/s, loss=0.00329]\n"
          ]
        },
        {
          "output_type": "stream",
          "name": "stdout",
          "text": [
            "Epoch 32/50 | Train Loss: 0.0009 | Train Acc: 1.0000 | Train F1: 1.0000 | Train Precision: 1.0000 | Train Recall: 1.0000\n",
            "                  | Val Loss: 0.9367 | Val Acc: 0.8153 | Val F1: 0.8153 | Val Precision: 0.8162 | Val Recall: 0.8153\n"
          ]
        },
        {
          "output_type": "stream",
          "name": "stderr",
          "text": [
            "Epoch 33/50: 100%|██████████| 142/142 [00:22<00:00,  6.18it/s, loss=0.0011]\n"
          ]
        },
        {
          "output_type": "stream",
          "name": "stdout",
          "text": [
            "Epoch 33/50 | Train Loss: 0.0023 | Train Acc: 0.9991 | Train F1: 0.9991 | Train Precision: 0.9991 | Train Recall: 0.9991\n",
            "                  | Val Loss: 0.9697 | Val Acc: 0.8223 | Val F1: 0.8223 | Val Precision: 0.8228 | Val Recall: 0.8223\n"
          ]
        },
        {
          "output_type": "stream",
          "name": "stderr",
          "text": [
            "Epoch 34/50: 100%|██████████| 142/142 [00:22<00:00,  6.41it/s, loss=0.00167]\n"
          ]
        },
        {
          "output_type": "stream",
          "name": "stdout",
          "text": [
            "Epoch 34/50 | Train Loss: 0.0009 | Train Acc: 1.0000 | Train F1: 1.0000 | Train Precision: 1.0000 | Train Recall: 1.0000\n",
            "                  | Val Loss: 0.9503 | Val Acc: 0.8223 | Val F1: 0.8223 | Val Precision: 0.8228 | Val Recall: 0.8223\n"
          ]
        },
        {
          "output_type": "stream",
          "name": "stderr",
          "text": [
            "Epoch 35/50: 100%|██████████| 142/142 [00:22<00:00,  6.43it/s, loss=0.00134]\n"
          ]
        },
        {
          "output_type": "stream",
          "name": "stdout",
          "text": [
            "Epoch 35/50 | Train Loss: 0.0012 | Train Acc: 1.0000 | Train F1: 1.0000 | Train Precision: 1.0000 | Train Recall: 1.0000\n",
            "                  | Val Loss: 0.9349 | Val Acc: 0.8188 | Val F1: 0.8188 | Val Precision: 0.8195 | Val Recall: 0.8188\n"
          ]
        },
        {
          "output_type": "stream",
          "name": "stderr",
          "text": [
            "Epoch 36/50: 100%|██████████| 142/142 [00:21<00:00,  6.48it/s, loss=0.00277]\n"
          ]
        },
        {
          "output_type": "stream",
          "name": "stdout",
          "text": [
            "Epoch 36/50 | Train Loss: 0.0039 | Train Acc: 0.9991 | Train F1: 0.9991 | Train Precision: 0.9991 | Train Recall: 0.9991\n",
            "                  | Val Loss: 0.9369 | Val Acc: 0.8118 | Val F1: 0.8118 | Val Precision: 0.8130 | Val Recall: 0.8118\n"
          ]
        },
        {
          "output_type": "stream",
          "name": "stderr",
          "text": [
            "Epoch 37/50: 100%|██████████| 142/142 [00:20<00:00,  6.83it/s, loss=0.000579]\n"
          ]
        },
        {
          "output_type": "stream",
          "name": "stdout",
          "text": [
            "Epoch 37/50 | Train Loss: 0.0019 | Train Acc: 0.9991 | Train F1: 0.9991 | Train Precision: 0.9991 | Train Recall: 0.9991\n",
            "                  | Val Loss: 0.9305 | Val Acc: 0.8188 | Val F1: 0.8188 | Val Precision: 0.8195 | Val Recall: 0.8188\n"
          ]
        },
        {
          "output_type": "stream",
          "name": "stderr",
          "text": [
            "Epoch 38/50: 100%|██████████| 142/142 [00:20<00:00,  6.80it/s, loss=0.00117]\n"
          ]
        },
        {
          "output_type": "stream",
          "name": "stdout",
          "text": [
            "Epoch 38/50 | Train Loss: 0.0008 | Train Acc: 1.0000 | Train F1: 1.0000 | Train Precision: 1.0000 | Train Recall: 1.0000\n",
            "                  | Val Loss: 0.9579 | Val Acc: 0.8223 | Val F1: 0.8223 | Val Precision: 0.8228 | Val Recall: 0.8223\n"
          ]
        },
        {
          "output_type": "stream",
          "name": "stderr",
          "text": [
            "Epoch 39/50: 100%|██████████| 142/142 [00:20<00:00,  6.83it/s, loss=0.000715]\n"
          ]
        },
        {
          "output_type": "stream",
          "name": "stdout",
          "text": [
            "Epoch 39/50 | Train Loss: 0.0021 | Train Acc: 1.0000 | Train F1: 1.0000 | Train Precision: 1.0000 | Train Recall: 1.0000\n",
            "                  | Val Loss: 0.9272 | Val Acc: 0.8153 | Val F1: 0.8153 | Val Precision: 0.8162 | Val Recall: 0.8153\n"
          ]
        },
        {
          "output_type": "stream",
          "name": "stderr",
          "text": [
            "Epoch 40/50: 100%|██████████| 142/142 [00:21<00:00,  6.70it/s, loss=0.00849]\n"
          ]
        },
        {
          "output_type": "stream",
          "name": "stdout",
          "text": [
            "Epoch 40/50 | Train Loss: 0.0018 | Train Acc: 1.0000 | Train F1: 1.0000 | Train Precision: 1.0000 | Train Recall: 1.0000\n",
            "                  | Val Loss: 0.9653 | Val Acc: 0.8118 | Val F1: 0.8118 | Val Precision: 0.8130 | Val Recall: 0.8118\n"
          ]
        },
        {
          "output_type": "stream",
          "name": "stderr",
          "text": [
            "Epoch 41/50: 100%|██████████| 142/142 [00:20<00:00,  6.77it/s, loss=0.000921]\n"
          ]
        },
        {
          "output_type": "stream",
          "name": "stdout",
          "text": [
            "Epoch 41/50 | Train Loss: 0.0008 | Train Acc: 1.0000 | Train F1: 1.0000 | Train Precision: 1.0000 | Train Recall: 1.0000\n",
            "                  | Val Loss: 0.9266 | Val Acc: 0.8223 | Val F1: 0.8223 | Val Precision: 0.8228 | Val Recall: 0.8223\n"
          ]
        },
        {
          "output_type": "stream",
          "name": "stderr",
          "text": [
            "Epoch 42/50: 100%|██████████| 142/142 [00:21<00:00,  6.59it/s, loss=0.00587]\n"
          ]
        },
        {
          "output_type": "stream",
          "name": "stdout",
          "text": [
            "Epoch 42/50 | Train Loss: 0.0010 | Train Acc: 1.0000 | Train F1: 1.0000 | Train Precision: 1.0000 | Train Recall: 1.0000\n",
            "                  | Val Loss: 0.9561 | Val Acc: 0.8153 | Val F1: 0.8153 | Val Precision: 0.8162 | Val Recall: 0.8153\n"
          ]
        },
        {
          "output_type": "stream",
          "name": "stderr",
          "text": [
            "Epoch 43/50: 100%|██████████| 142/142 [00:22<00:00,  6.34it/s, loss=0.00633]\n"
          ]
        },
        {
          "output_type": "stream",
          "name": "stdout",
          "text": [
            "Epoch 43/50 | Train Loss: 0.0018 | Train Acc: 0.9991 | Train F1: 0.9991 | Train Precision: 0.9991 | Train Recall: 0.9991\n",
            "                  | Val Loss: 0.9427 | Val Acc: 0.8223 | Val F1: 0.8223 | Val Precision: 0.8228 | Val Recall: 0.8223\n"
          ]
        },
        {
          "output_type": "stream",
          "name": "stderr",
          "text": [
            "Epoch 44/50: 100%|██████████| 142/142 [00:22<00:00,  6.36it/s, loss=0.000798]\n"
          ]
        },
        {
          "output_type": "stream",
          "name": "stdout",
          "text": [
            "Epoch 44/50 | Train Loss: 0.0009 | Train Acc: 1.0000 | Train F1: 1.0000 | Train Precision: 1.0000 | Train Recall: 1.0000\n",
            "                  | Val Loss: 0.9494 | Val Acc: 0.8153 | Val F1: 0.8153 | Val Precision: 0.8162 | Val Recall: 0.8153\n"
          ]
        },
        {
          "output_type": "stream",
          "name": "stderr",
          "text": [
            "Epoch 45/50: 100%|██████████| 142/142 [00:22<00:00,  6.28it/s, loss=0.00382]\n"
          ]
        },
        {
          "output_type": "stream",
          "name": "stdout",
          "text": [
            "Epoch 45/50 | Train Loss: 0.0019 | Train Acc: 1.0000 | Train F1: 1.0000 | Train Precision: 1.0000 | Train Recall: 1.0000\n",
            "                  | Val Loss: 0.9500 | Val Acc: 0.8258 | Val F1: 0.8258 | Val Precision: 0.8261 | Val Recall: 0.8258\n"
          ]
        },
        {
          "output_type": "stream",
          "name": "stderr",
          "text": [
            "Epoch 46/50: 100%|██████████| 142/142 [00:22<00:00,  6.31it/s, loss=0.00104]\n"
          ]
        },
        {
          "output_type": "stream",
          "name": "stdout",
          "text": [
            "Epoch 46/50 | Train Loss: 0.0026 | Train Acc: 0.9991 | Train F1: 0.9991 | Train Precision: 0.9991 | Train Recall: 0.9991\n",
            "                  | Val Loss: 0.9407 | Val Acc: 0.8258 | Val F1: 0.8258 | Val Precision: 0.8261 | Val Recall: 0.8258\n"
          ]
        },
        {
          "output_type": "stream",
          "name": "stderr",
          "text": [
            "Epoch 47/50: 100%|██████████| 142/142 [00:22<00:00,  6.35it/s, loss=0.00161]\n"
          ]
        },
        {
          "output_type": "stream",
          "name": "stdout",
          "text": [
            "Epoch 47/50 | Train Loss: 0.0008 | Train Acc: 1.0000 | Train F1: 1.0000 | Train Precision: 1.0000 | Train Recall: 1.0000\n",
            "                  | Val Loss: 0.9565 | Val Acc: 0.8153 | Val F1: 0.8153 | Val Precision: 0.8162 | Val Recall: 0.8153\n"
          ]
        },
        {
          "output_type": "stream",
          "name": "stderr",
          "text": [
            "Epoch 48/50: 100%|██████████| 142/142 [00:22<00:00,  6.39it/s, loss=0.00287]\n"
          ]
        },
        {
          "output_type": "stream",
          "name": "stdout",
          "text": [
            "Epoch 48/50 | Train Loss: 0.0011 | Train Acc: 1.0000 | Train F1: 1.0000 | Train Precision: 1.0000 | Train Recall: 1.0000\n",
            "                  | Val Loss: 0.9500 | Val Acc: 0.8258 | Val F1: 0.8258 | Val Precision: 0.8261 | Val Recall: 0.8258\n"
          ]
        },
        {
          "output_type": "stream",
          "name": "stderr",
          "text": [
            "Epoch 49/50: 100%|██████████| 142/142 [00:21<00:00,  6.60it/s, loss=0.00205]\n"
          ]
        },
        {
          "output_type": "stream",
          "name": "stdout",
          "text": [
            "Epoch 49/50 | Train Loss: 0.0010 | Train Acc: 1.0000 | Train F1: 1.0000 | Train Precision: 1.0000 | Train Recall: 1.0000\n",
            "                  | Val Loss: 0.9394 | Val Acc: 0.8153 | Val F1: 0.8153 | Val Precision: 0.8162 | Val Recall: 0.8153\n"
          ]
        },
        {
          "output_type": "stream",
          "name": "stderr",
          "text": [
            "Epoch 50/50: 100%|██████████| 142/142 [00:21<00:00,  6.72it/s, loss=0.00161]\n"
          ]
        },
        {
          "output_type": "stream",
          "name": "stdout",
          "text": [
            "Epoch 50/50 | Train Loss: 0.0015 | Train Acc: 1.0000 | Train F1: 1.0000 | Train Precision: 1.0000 | Train Recall: 1.0000\n",
            "                  | Val Loss: 0.9596 | Val Acc: 0.8223 | Val F1: 0.8223 | Val Precision: 0.8228 | Val Recall: 0.8223\n"
          ]
        },
        {
          "output_type": "execute_result",
          "data": {
            "text/plain": [
              "[[1,\n",
              "  0.10229943573358469,\n",
              "  0.9565987599645704,\n",
              "  0.9566008031819356,\n",
              "  0.9566403717798042,\n",
              "  0.9565987599645704,\n",
              "  0.9287682606243632,\n",
              "  0.8048780487804879,\n",
              "  0.8048875243997196,\n",
              "  0.8052097276679421,\n",
              "  0.8048780487804879],\n",
              " [2,\n",
              "  0.056211887239019424,\n",
              "  0.983170947741364,\n",
              "  0.9831715023515628,\n",
              "  0.98318594218433,\n",
              "  0.983170947741364,\n",
              "  0.8140902895635614,\n",
              "  0.8118466898954704,\n",
              "  0.8118558270997295,\n",
              "  0.8121803994699908,\n",
              "  0.8118466898954704],\n",
              " [3,\n",
              "  0.05055263510521527,\n",
              "  0.9840566873339238,\n",
              "  0.9840575879729772,\n",
              "  0.9841573079742636,\n",
              "  0.9840566873339238,\n",
              "  0.9742326532141306,\n",
              "  0.818815331010453,\n",
              "  0.818802132826523,\n",
              "  0.8195050842636706,\n",
              "  0.818815331010453],\n",
              " [4,\n",
              "  0.03109395433000853,\n",
              "  0.9911426040744021,\n",
              "  0.9911426040744021,\n",
              "  0.9911426040744021,\n",
              "  0.9911426040744021,\n",
              "  0.9875993088870827,\n",
              "  0.7979094076655052,\n",
              "  0.7979241301467341,\n",
              "  0.7980163467968345,\n",
              "  0.7979094076655052],\n",
              " [5,\n",
              "  0.022703966099304036,\n",
              "  0.995571302037201,\n",
              "  0.9955713576398387,\n",
              "  0.9955729756358838,\n",
              "  0.995571302037201,\n",
              "  0.8714911101010835,\n",
              "  0.8083623693379791,\n",
              "  0.8083064881261951,\n",
              "  0.808427439812353,\n",
              "  0.8083623693379791],\n",
              " [6,\n",
              "  0.018829644544432957,\n",
              "  0.9946855624446412,\n",
              "  0.9946855624446412,\n",
              "  0.9946855624446412,\n",
              "  0.9946855624446412,\n",
              "  0.9651062690795192,\n",
              "  0.8013937282229965,\n",
              "  0.8013599700999481,\n",
              "  0.8022805599573453,\n",
              "  0.8013937282229965],\n",
              " [7,\n",
              "  0.006543923770614512,\n",
              "  0.9991142604074402,\n",
              "  0.9991142715279677,\n",
              "  0.9991158506041953,\n",
              "  0.9991142604074402,\n",
              "  0.9516469089430757,\n",
              "  0.8083623693379791,\n",
              "  0.8082785963764132,\n",
              "  0.8097876344769704,\n",
              "  0.8083623693379791],\n",
              " [8,\n",
              "  0.008018789909969406,\n",
              "  0.9982285208148804,\n",
              "  0.9982285208148804,\n",
              "  0.9982285208148804,\n",
              "  0.9982285208148804,\n",
              "  0.9752497829063537,\n",
              "  0.818815331010453,\n",
              "  0.8188285304763823,\n",
              "  0.8189212548968646,\n",
              "  0.818815331010453],\n",
              " [9,\n",
              "  0.002608362451520778,\n",
              "  1.0,\n",
              "  1.0,\n",
              "  1.0,\n",
              "  1.0,\n",
              "  0.9254975868065635,\n",
              "  0.8222996515679443,\n",
              "  0.8223082827215601,\n",
              "  0.8223368808308218,\n",
              "  0.8222996515679443],\n",
              " [10,\n",
              "  0.006661376176504144,\n",
              "  0.9982285208148804,\n",
              "  0.9982285208148804,\n",
              "  0.9982285208148804,\n",
              "  0.9982285208148804,\n",
              "  1.0112223224843748,\n",
              "  0.8118466898954704,\n",
              "  0.8118329840890817,\n",
              "  0.8125293322904076,\n",
              "  0.8118466898954704],\n",
              " [11,\n",
              "  0.005483963481272209,\n",
              "  0.9991142604074402,\n",
              "  0.9991142715279677,\n",
              "  0.9991158506041953,\n",
              "  0.9991142604074402,\n",
              "  0.9419197362666536,\n",
              "  0.8153310104529616,\n",
              "  0.8153444629380862,\n",
              "  0.8155360899263339,\n",
              "  0.8153310104529616],\n",
              " [12,\n",
              "  0.0026840065784455593,\n",
              "  1.0,\n",
              "  1.0,\n",
              "  1.0,\n",
              "  1.0,\n",
              "  0.9189191242524734,\n",
              "  0.8257839721254355,\n",
              "  0.8257966639195984,\n",
              "  0.8258895575968748,\n",
              "  0.8257839721254355],\n",
              " [13,\n",
              "  0.0029963439399221564,\n",
              "  0.9991142604074402,\n",
              "  0.9991142715279677,\n",
              "  0.9991158506041953,\n",
              "  0.9991142604074402,\n",
              "  0.9431748685310595,\n",
              "  0.8153310104529616,\n",
              "  0.8153175527393197,\n",
              "  0.815323899594681,\n",
              "  0.8153310104529616],\n",
              " [14,\n",
              "  0.002537640017718831,\n",
              "  1.0,\n",
              "  1.0,\n",
              "  1.0,\n",
              "  1.0,\n",
              "  1.0112464516019424,\n",
              "  0.8292682926829268,\n",
              "  0.8292807298861551,\n",
              "  0.8294743874012167,\n",
              "  0.8292682926829268],\n",
              " [15,\n",
              "  0.0019958859472328032,\n",
              "  1.0,\n",
              "  1.0,\n",
              "  1.0,\n",
              "  1.0,\n",
              "  1.0424023700114857,\n",
              "  0.8257839721254355,\n",
              "  0.8257839721254355,\n",
              "  0.8257839721254355,\n",
              "  0.8257839721254355],\n",
              " [16,\n",
              "  0.0017410056476159887,\n",
              "  1.0,\n",
              "  1.0,\n",
              "  1.0,\n",
              "  1.0,\n",
              "  1.0234667804777726,\n",
              "  0.8222996515679443,\n",
              "  0.8223082827215601,\n",
              "  0.8223368808308218,\n",
              "  0.8222996515679443],\n",
              " [17,\n",
              "  0.00501117387672603,\n",
              "  0.9982285208148804,\n",
              "  0.9982285625158442,\n",
              "  0.9982348702026408,\n",
              "  0.9982285208148804,\n",
              "  0.9547242307291728,\n",
              "  0.8257839721254355,\n",
              "  0.8257966639195984,\n",
              "  0.8258895575968748,\n",
              "  0.8257839721254355],\n",
              " [18,\n",
              "  0.0020286239175515168,\n",
              "  1.0,\n",
              "  1.0,\n",
              "  1.0,\n",
              "  1.0,\n",
              "  0.9427521794956798,\n",
              "  0.818815331010453,\n",
              "  0.818815331010453,\n",
              "  0.818815331010453,\n",
              "  0.818815331010453],\n",
              " [19,\n",
              "  0.0013557603075933515,\n",
              "  1.0,\n",
              "  1.0,\n",
              "  1.0,\n",
              "  1.0,\n",
              "  0.9617511007236317,\n",
              "  0.8153310104529616,\n",
              "  0.8153175527393197,\n",
              "  0.815323899594681,\n",
              "  0.8153310104529616],\n",
              " [20,\n",
              "  0.0015271370132300228,\n",
              "  1.0,\n",
              "  1.0,\n",
              "  1.0,\n",
              "  1.0,\n",
              "  0.951738809329173,\n",
              "  0.818815331010453,\n",
              "  0.818802132826523,\n",
              "  0.8195050842636706,\n",
              "  0.818815331010453],\n",
              " [21,\n",
              "  0.001542399152935053,\n",
              "  1.0,\n",
              "  1.0,\n",
              "  1.0,\n",
              "  1.0,\n",
              "  0.9785521444169313,\n",
              "  0.818815331010453,\n",
              "  0.818802132826523,\n",
              "  0.8195050842636706,\n",
              "  0.818815331010453],\n",
              " [22,\n",
              "  0.0015819269407062089,\n",
              "  1.0,\n",
              "  1.0,\n",
              "  1.0,\n",
              "  1.0,\n",
              "  0.9365091702525711,\n",
              "  0.818815331010453,\n",
              "  0.818802132826523,\n",
              "  0.8195050842636706,\n",
              "  0.818815331010453],\n",
              " [23,\n",
              "  0.0009752953051311509,\n",
              "  1.0,\n",
              "  1.0,\n",
              "  1.0,\n",
              "  1.0,\n",
              "  0.932195573243209,\n",
              "  0.8153310104529616,\n",
              "  0.8152996213210044,\n",
              "  0.8162391830579232,\n",
              "  0.8153310104529616],\n",
              " [24,\n",
              "  0.004590389446045431,\n",
              "  0.9982285208148804,\n",
              "  0.9982285208148804,\n",
              "  0.9982285208148804,\n",
              "  0.9982285208148804,\n",
              "  0.9451475020452764,\n",
              "  0.818815331010453,\n",
              "  0.818802132826523,\n",
              "  0.8195050842636706,\n",
              "  0.818815331010453],\n",
              " [25,\n",
              "  0.0020337766478264775,\n",
              "  1.0,\n",
              "  1.0,\n",
              "  1.0,\n",
              "  1.0,\n",
              "  0.9685936040865878,\n",
              "  0.8222996515679443,\n",
              "  0.8222996515679443,\n",
              "  0.822798959138361,\n",
              "  0.8222996515679443],\n",
              " [26,\n",
              "  0.0011561054437177671,\n",
              "  1.0,\n",
              "  1.0,\n",
              "  1.0,\n",
              "  1.0,\n",
              "  0.920203819023704,\n",
              "  0.8257839721254355,\n",
              "  0.8257924324997495,\n",
              "  0.8261217430740878,\n",
              "  0.8257839721254355],\n",
              " [27,\n",
              "  0.0028255784666111087,\n",
              "  0.9991142604074402,\n",
              "  0.9991142478961792,\n",
              "  0.9991158035077757,\n",
              "  0.9991142604074402,\n",
              "  0.9350158275952304,\n",
              "  0.8222996515679443,\n",
              "  0.8222996515679443,\n",
              "  0.822798959138361,\n",
              "  0.8222996515679443],\n",
              " [28,\n",
              "  0.0013764054466507882,\n",
              "  1.0,\n",
              "  1.0,\n",
              "  1.0,\n",
              "  1.0,\n",
              "  0.9368685899502857,\n",
              "  0.8257839721254355,\n",
              "  0.8257924324997495,\n",
              "  0.8261217430740878,\n",
              "  0.8257839721254355],\n",
              " [29,\n",
              "  0.0012303247323845272,\n",
              "  1.0,\n",
              "  1.0,\n",
              "  1.0,\n",
              "  1.0,\n",
              "  0.9735663593196983,\n",
              "  0.8153310104529616,\n",
              "  0.8152996213210044,\n",
              "  0.8162391830579232,\n",
              "  0.8153310104529616],\n",
              " [30,\n",
              "  0.000991382579843663,\n",
              "  1.0,\n",
              "  1.0,\n",
              "  1.0,\n",
              "  1.0,\n",
              "  0.946599187791839,\n",
              "  0.8222996515679443,\n",
              "  0.8222996515679443,\n",
              "  0.822798959138361,\n",
              "  0.8222996515679443],\n",
              " [31,\n",
              "  0.0011660256881230093,\n",
              "  1.0,\n",
              "  1.0,\n",
              "  1.0,\n",
              "  1.0,\n",
              "  0.9535966179521185,\n",
              "  0.8222996515679443,\n",
              "  0.8222996515679443,\n",
              "  0.822798959138361,\n",
              "  0.8222996515679443],\n",
              " [32,\n",
              "  0.0008748528918505131,\n",
              "  1.0,\n",
              "  1.0,\n",
              "  1.0,\n",
              "  1.0,\n",
              "  0.9366931837867014,\n",
              "  0.8153310104529616,\n",
              "  0.8152996213210044,\n",
              "  0.8162391830579232,\n",
              "  0.8153310104529616],\n",
              " [33,\n",
              "  0.002290199441141583,\n",
              "  0.9991142604074402,\n",
              "  0.9991142715279677,\n",
              "  0.9991158506041953,\n",
              "  0.9991142604074402,\n",
              "  0.9697031938946262,\n",
              "  0.8222996515679443,\n",
              "  0.8222996515679443,\n",
              "  0.822798959138361,\n",
              "  0.8222996515679443],\n",
              " [34,\n",
              "  0.0009184270144340214,\n",
              "  1.0,\n",
              "  1.0,\n",
              "  1.0,\n",
              "  1.0,\n",
              "  0.9502904824249627,\n",
              "  0.8222996515679443,\n",
              "  0.8222996515679443,\n",
              "  0.822798959138361,\n",
              "  0.8222996515679443],\n",
              " [35,\n",
              "  0.0011727071524053596,\n",
              "  1.0,\n",
              "  1.0,\n",
              "  1.0,\n",
              "  1.0,\n",
              "  0.9348580882587056,\n",
              "  0.818815331010453,\n",
              "  0.818802132826523,\n",
              "  0.8195050842636706,\n",
              "  0.818815331010453],\n",
              " [36,\n",
              "  0.003909646801205358,\n",
              "  0.9991142604074402,\n",
              "  0.9991142715279677,\n",
              "  0.9991158506041953,\n",
              "  0.9991142604074402,\n",
              "  0.9368852938771144,\n",
              "  0.8118466898954704,\n",
              "  0.8117918613446872,\n",
              "  0.8130003351807248,\n",
              "  0.8118466898954704],\n",
              " [37,\n",
              "  0.0019334883021220892,\n",
              "  0.9991142604074402,\n",
              "  0.9991142478961792,\n",
              "  0.9991158035077757,\n",
              "  0.9991142604074402,\n",
              "  0.9304555473855645,\n",
              "  0.818815331010453,\n",
              "  0.818802132826523,\n",
              "  0.8195050842636706,\n",
              "  0.818815331010453],\n",
              " [38,\n",
              "  0.0008003137294009052,\n",
              "  1.0,\n",
              "  1.0,\n",
              "  1.0,\n",
              "  1.0,\n",
              "  0.9578799874774026,\n",
              "  0.8222996515679443,\n",
              "  0.8222996515679443,\n",
              "  0.822798959138361,\n",
              "  0.8222996515679443],\n",
              " [39,\n",
              "  0.0020698294935409395,\n",
              "  1.0,\n",
              "  1.0,\n",
              "  1.0,\n",
              "  1.0,\n",
              "  0.9272347942654354,\n",
              "  0.8153310104529616,\n",
              "  0.8152996213210044,\n",
              "  0.8162391830579232,\n",
              "  0.8153310104529616],\n",
              " [40,\n",
              "  0.0018151191592435897,\n",
              "  1.0,\n",
              "  1.0,\n",
              "  1.0,\n",
              "  1.0,\n",
              "  0.9652626943845664,\n",
              "  0.8118466898954704,\n",
              "  0.8117918613446872,\n",
              "  0.8130003351807248,\n",
              "  0.8118466898954704],\n",
              " [41,\n",
              "  0.0008096360111395229,\n",
              "  1.0,\n",
              "  1.0,\n",
              "  1.0,\n",
              "  1.0,\n",
              "  0.9266216798536738,\n",
              "  0.8222996515679443,\n",
              "  0.8222996515679443,\n",
              "  0.822798959138361,\n",
              "  0.8222996515679443],\n",
              " [42,\n",
              "  0.0010245125229528024,\n",
              "  1.0,\n",
              "  1.0,\n",
              "  1.0,\n",
              "  1.0,\n",
              "  0.9560577019292396,\n",
              "  0.8153310104529616,\n",
              "  0.8152996213210044,\n",
              "  0.8162391830579232,\n",
              "  0.8153310104529616],\n",
              " [43,\n",
              "  0.0018224699076238042,\n",
              "  0.9991142604074402,\n",
              "  0.9991142715279677,\n",
              "  0.9991158506041953,\n",
              "  0.9991142604074402,\n",
              "  0.9427054230537679,\n",
              "  0.8222996515679443,\n",
              "  0.8222996515679443,\n",
              "  0.822798959138361,\n",
              "  0.8222996515679443],\n",
              " [44,\n",
              "  0.0009398802330650423,\n",
              "  1.0,\n",
              "  1.0,\n",
              "  1.0,\n",
              "  1.0,\n",
              "  0.9493503992837051,\n",
              "  0.8153310104529616,\n",
              "  0.8152996213210044,\n",
              "  0.8162391830579232,\n",
              "  0.8153310104529616],\n",
              " [45,\n",
              "  0.0019195745227131135,\n",
              "  1.0,\n",
              "  1.0,\n",
              "  1.0,\n",
              "  1.0,\n",
              "  0.9500422001389476,\n",
              "  0.8257839721254355,\n",
              "  0.8257924324997495,\n",
              "  0.8261217430740878,\n",
              "  0.8257839721254355],\n",
              " [46,\n",
              "  0.0026480246033187683,\n",
              "  0.9991142604074402,\n",
              "  0.9991142715279677,\n",
              "  0.9991158506041953,\n",
              "  0.9991142604074402,\n",
              "  0.940669596276065,\n",
              "  0.8257839721254355,\n",
              "  0.8257924324997495,\n",
              "  0.8261217430740878,\n",
              "  0.8257839721254355],\n",
              " [47,\n",
              "  0.0008063886816543486,\n",
              "  1.0,\n",
              "  1.0,\n",
              "  1.0,\n",
              "  1.0,\n",
              "  0.9564843881736225,\n",
              "  0.8153310104529616,\n",
              "  0.8152996213210044,\n",
              "  0.8162391830579232,\n",
              "  0.8153310104529616],\n",
              " [48,\n",
              "  0.0011026336026358403,\n",
              "  1.0,\n",
              "  1.0,\n",
              "  1.0,\n",
              "  1.0,\n",
              "  0.9499721739961792,\n",
              "  0.8257839721254355,\n",
              "  0.8257924324997495,\n",
              "  0.8261217430740878,\n",
              "  0.8257839721254355],\n",
              " [49,\n",
              "  0.000990881363180397,\n",
              "  1.0,\n",
              "  1.0,\n",
              "  1.0,\n",
              "  1.0,\n",
              "  0.9393949243563434,\n",
              "  0.8153310104529616,\n",
              "  0.8152996213210044,\n",
              "  0.8162391830579232,\n",
              "  0.8153310104529616],\n",
              " [50,\n",
              "  0.001497282200758286,\n",
              "  1.0,\n",
              "  1.0,\n",
              "  1.0,\n",
              "  1.0,\n",
              "  0.9596018641750561,\n",
              "  0.8222996515679443,\n",
              "  0.8222996515679443,\n",
              "  0.822798959138361,\n",
              "  0.8222996515679443]]"
            ]
          },
          "metadata": {},
          "execution_count": 7
        }
      ]
    },
    {
      "cell_type": "code",
      "source": [
        "model_save_path = \"/content/drive/MyDrive/FracAtlas/models/efficientnet_clahe_lr0.0001_v2.pth\"\n",
        "torch.save(model.state_dict(), model_save_path)\n",
        "print(f\"✅ Model saved at: {model_save_path}\")"
      ],
      "metadata": {
        "colab": {
          "base_uri": "https://localhost:8080/"
        },
        "id": "LSTVZFvomJC4",
        "outputId": "42a149bf-d232-4005-f27e-c8629301c8b5"
      },
      "execution_count": null,
      "outputs": [
        {
          "output_type": "stream",
          "name": "stdout",
          "text": [
            "✅ Model saved at: /content/drive/MyDrive/FracAtlas/models/efficientnet_clahe_lr0.0001_v2.pth\n"
          ]
        }
      ]
    },
    {
      "cell_type": "markdown",
      "source": [
        "# Model Inference on Test Images with CLAHE\n",
        "\n",
        "We evaluate the CLAHE-enhanced EfficientNet model on randomly selected test images. The pipeline includes:\n",
        "\n",
        "Loading the trained model and ensuring it runs in evaluation mode.\n",
        "Applying CLAHE to enhance the input images before feeding them into the model.\n",
        "Predicting the fracture status and comparing it with the actual label.\n",
        "Visualizing predictions, displaying both the actual and predicted labels for interpretability.\n",
        "This step helps assess how well the model generalizes to unseen data while verifying the effectiveness of CLAHE preprocessing."
      ],
      "metadata": {
        "id": "17wZ69YRqIN_"
      }
    },
    {
      "cell_type": "code",
      "source": [
        "import torch\n",
        "import random\n",
        "import numpy as np\n",
        "import torchvision.transforms as transforms\n",
        "import matplotlib.pyplot as plt\n",
        "from PIL import Image, UnidentifiedImageError\n",
        "from torchvision import models\n",
        "import cv2\n",
        "import warnings\n",
        "\n",
        "# Define device\n",
        "device = torch.device(\"cuda\" if torch.cuda.is_available() else \"cpu\")\n",
        "\n",
        "# Load trained model\n",
        "model_save_path = \"/content/drive/MyDrive/FracAtlas/models/efficientnet_clahe_lr0.0001_v2.pth\"\n",
        "model = models.efficientnet_b0(pretrained=False)\n",
        "model.classifier[1] = torch.nn.Linear(model.classifier[1].in_features, 2)  # Adjust classifier for binary classification\n",
        "model.load_state_dict(torch.load(model_save_path, map_location=device))\n",
        "model.to(device)\n",
        "model.eval()\n",
        "\n",
        "# Define transformation (same as used in training)\n",
        "transform = transforms.Compose([\n",
        "    transforms.Resize((224, 224)),\n",
        "    transforms.ToTensor(),\n",
        "    transforms.Normalize(mean=[0.5, 0.5, 0.5], std=[0.5, 0.5, 0.5])\n",
        "])\n",
        "\n",
        "# Function to apply CLAHE\n",
        "def apply_clahe(image):\n",
        "    image_np = np.array(image.convert(\"L\"))  # Convert to grayscale\n",
        "    clahe = cv2.createCLAHE(clipLimit=2.0, tileGridSize=(8, 8))\n",
        "    clahe_applied = clahe.apply(image_np)  # Apply CLAHE\n",
        "    return Image.fromarray(clahe_applied).convert(\"RGB\")  # Convert back to RGB\n",
        "\n",
        "# Function to safely open images (skip corrupted images)\n",
        "def safe_open_image(image_path):\n",
        "    try:\n",
        "        with Image.open(image_path) as img:\n",
        "            img.load()  # Ensure full loading in memory\n",
        "            return img.convert(\"RGB\")\n",
        "    except (OSError, UnidentifiedImageError) as e:\n",
        "        warnings.warn(f\"⚠️ Skipping corrupted image: {image_path} - {e}\")\n",
        "        return None  # Return None to indicate failure\n",
        "\n",
        "# Select multiple random images from the test dataset\n",
        "num_samples = 6  # Number of images to display\n",
        "random_indices = random.sample(range(len(test_dataset)), num_samples)\n",
        "valid_samples = []  # List to store valid images\n",
        "\n",
        "for idx in random_indices:\n",
        "    image_path = test_dataset.data.iloc[idx, 0]\n",
        "\n",
        "    # Try to open image\n",
        "    image = safe_open_image(image_path)\n",
        "    if image is not None:\n",
        "        valid_samples.append((image, image_path))\n",
        "\n",
        "    # Stop once we have enough valid samples\n",
        "    if len(valid_samples) == num_samples:\n",
        "        break\n",
        "\n",
        "# Prepare figure\n",
        "fig, axes = plt.subplots(2, num_samples // 2, figsize=(15, 6))\n",
        "\n",
        "label_names = [\"Non-Fractured\", \"Fractured\"]\n",
        "\n",
        "for i, (image, image_path) in enumerate(valid_samples):\n",
        "    # Get actual label from filename\n",
        "    actual_label = 1 if \"Fractured\" in image_path else 0\n",
        "\n",
        "    # Apply CLAHE transformation\n",
        "    image_clahe = apply_clahe(image)\n",
        "\n",
        "    # Preprocess for model\n",
        "    input_tensor = transform(image_clahe).unsqueeze(0).to(device)\n",
        "\n",
        "    # Get model prediction\n",
        "    with torch.no_grad():\n",
        "        output = model(input_tensor)\n",
        "        predicted_label = torch.argmax(output, dim=1).item()\n",
        "\n",
        "    # Convert labels to readable text\n",
        "    actual_text = label_names[actual_label]\n",
        "    predicted_text = label_names[predicted_label]\n",
        "\n",
        "    # Display the image\n",
        "    ax = axes[i // (num_samples // 2), i % (num_samples // 2)]\n",
        "    ax.imshow(image_clahe)\n",
        "    ax.set_title(f\"Actual: {actual_text}\\nPredicted: {predicted_text}\", fontsize=10)\n",
        "    ax.axis(\"off\")\n",
        "\n",
        "plt.tight_layout()\n",
        "plt.show()"
      ],
      "metadata": {
        "id": "_EyoEYfgl_0J",
        "colab": {
          "base_uri": "https://localhost:8080/",
          "height": 663
        },
        "outputId": "ddbda963-8145-4958-baed-1242dce7d040"
      },
      "execution_count": null,
      "outputs": [
        {
          "output_type": "stream",
          "name": "stderr",
          "text": [
            "<ipython-input-10-5b3d6af34790>:18: FutureWarning: You are using `torch.load` with `weights_only=False` (the current default value), which uses the default pickle module implicitly. It is possible to construct malicious pickle data which will execute arbitrary code during unpickling (See https://github.com/pytorch/pytorch/blob/main/SECURITY.md#untrusted-models for more details). In a future release, the default value for `weights_only` will be flipped to `True`. This limits the functions that could be executed during unpickling. Arbitrary objects will no longer be allowed to be loaded via this mode unless they are explicitly allowlisted by the user via `torch.serialization.add_safe_globals`. We recommend you start setting `weights_only=True` for any use case where you don't have full control of the loaded file. Please open an issue on GitHub for any issues related to this experimental feature.\n",
            "  model.load_state_dict(torch.load(model_save_path, map_location=device))\n"
          ]
        },
        {
          "output_type": "display_data",
          "data": {
            "text/plain": [
              "<Figure size 1500x600 with 6 Axes>"
            ],
            "image/png": "[encoded data removed]"
          },
          "metadata": {}
        }
      ]
    },
    {
      "cell_type": "markdown",
      "source": [
        "# Saving the Trained Model to Hugging Face Hub\n",
        "\n",
        "To make the CLAHE-enhanced EfficientNet model easily accessible, we prepare it for upload to Hugging Face:\n",
        "\n",
        "Authenticate with Hugging Face Hub to enable model storage and sharing.\n",
        "Load the trained model and ensure it matches the architecture used during training.\n",
        "Save the model in Hugging Face format, making it compatible for later use and inference.\n",
        "This step allows seamless model deployment and sharing for further research and experimentation."
      ],
      "metadata": {
        "id": "sCvUQJXxqViK"
      }
    },
    {
      "cell_type": "code",
      "source": [
        "!pip install huggingface_hub"
      ],
      "metadata": {
        "id": "KZ3HSjk-LT2Q"
      },
      "execution_count": null,
      "outputs": []
    },
    {
      "cell_type": "code",
      "source": [
        "from huggingface_hub import notebook_login\n",
        "\n",
        "notebook_login()"
      ],
      "metadata": {
        "colab": {
          "base_uri": "https://localhost:8080/",
          "height": 17,
          "referenced_widgets": [
            "e64251a5cd794cb89509bc8a470e6522",
            "a6eb0137ab374332a59ec57afa016e5a",
            "e0ce409f47d34e29becd7680b02e40df",
            "5602e361eb42414690449d95d604e9d7",
            "4d4d15ff72ee410fa8a017006ed98ed3",
            "4a489f70df764a828d37c7058d798fac",
            "d29f361bd087446e8c799bf2ff331bc3",
            "888ab113c5ea471db49edd8edcf98a20",
            "7ffc3bea3260419b8dd9a274f2ad001b",
            "b3908decc31f498c959733f9e752aff6",
            "aae4910b211744e88993b6662df1a430",
            "ba863b8ef0c942de974ae47531cc1ef8",
            "797c2fd4f32d4f6fa28ae5c30470ace4",
            "272c2007bc844ebf8007bb24e3cd5094",
            "fd5b5de6aac44684a9f7e06ffc113fa9",
            "2cc47ac6de2240c6a0743cef96100e4e",
            "c7f0a4f3e5e145319ab4583d20cd22af",
            "f63795d907814a30a8e9fa9ebbaff269",
            "0c28445ccc554d06b87e52d247810238",
            "b28010c368be4609afbbfc19bb91ae59"
          ]
        },
        "id": "_wmc-IhrNqiu",
        "outputId": "371ba7ff-b1c4-47df-866c-a2951d9a4e2c"
      },
      "execution_count": null,
      "outputs": [
        {
          "output_type": "display_data",
          "data": {
            "text/plain": [
              "VBox(children=(HTML(value='<center> <img\\nsrc=https://huggingface.co/front/assets/huggingface_logo-noborder.sv…"
            ],
            "application/vnd.jupyter.widget-view+json": {
              "version_major": 2,
              "version_minor": 0,
              "model_id": "e64251a5cd794cb89509bc8a470e6522"
            }
          },
          "metadata": {}
        }
      ]
    },
    {
      "cell_type": "code",
      "source": [
        "from transformers import AutoModel\n",
        "\n",
        "# Path to your trained model\n",
        "model_path = \"/content/drive/MyDrive/FracAtlas/models/efficientnet_clahe_lr0.0001_v2.pth\"\n",
        "\n",
        "# Define the model architecture (same as training)\n",
        "from torchvision import models\n",
        "model = models.efficientnet_b0(pretrained=False)\n",
        "model.classifier[1] = torch.nn.Linear(model.classifier[1].in_features, 2)\n",
        "\n",
        "# Load model weights\n",
        "model.load_state_dict(torch.load(model_path, map_location=\"cpu\"))\n",
        "model.eval()\n",
        "\n",
        "# Save it in Hugging Face format\n",
        "hf_model_path = \"efficientnet_clahe_hf\"\n",
        "torch.save(model, f\"{hf_model_path}.pt\")\n",
        "print(f\"✅ Model saved in Hugging Face format: {hf_model_path}.pt\")"
      ],
      "metadata": {
        "colab": {
          "base_uri": "https://localhost:8080/"
        },
        "id": "SY_9FjlaNwWh",
        "outputId": "a3db1ddc-2b34-4ac5-ef0f-8efea4b977a9"
      },
      "execution_count": null,
      "outputs": [
        {
          "output_type": "stream",
          "name": "stderr",
          "text": [
            "/usr/local/lib/python3.11/dist-packages/torchvision/models/_utils.py:208: UserWarning: The parameter 'pretrained' is deprecated since 0.13 and may be removed in the future, please use 'weights' instead.\n",
            "  warnings.warn(\n",
            "/usr/local/lib/python3.11/dist-packages/torchvision/models/_utils.py:223: UserWarning: Arguments other than a weight enum or `None` for 'weights' are deprecated since 0.13 and may be removed in the future. The current behavior is equivalent to passing `weights=None`.\n",
            "  warnings.warn(msg)\n",
            "<ipython-input-16-d68db339311c>:12: FutureWarning: You are using `torch.load` with `weights_only=False` (the current default value), which uses the default pickle module implicitly. It is possible to construct malicious pickle data which will execute arbitrary code during unpickling (See https://github.com/pytorch/pytorch/blob/main/SECURITY.md#untrusted-models for more details). In a future release, the default value for `weights_only` will be flipped to `True`. This limits the functions that could be executed during unpickling. Arbitrary objects will no longer be allowed to be loaded via this mode unless they are explicitly allowlisted by the user via `torch.serialization.add_safe_globals`. We recommend you start setting `weights_only=True` for any use case where you don't have full control of the loaded file. Please open an issue on GitHub for any issues related to this experimental feature.\n",
            "  model.load_state_dict(torch.load(model_path, map_location=\"cpu\"))\n"
          ]
        },
        {
          "output_type": "stream",
          "name": "stdout",
          "text": [
            "✅ Model saved in Hugging Face format: efficientnet_clahe_hf.pt\n"
          ]
        }
      ]
    },
    {
      "cell_type": "code",
      "source": [
        "from huggingface_hub import HfApi\n",
        "\n",
        "# Define repository name (change it to a unique name)\n",
        "repo_name = \"efficientnet_clahe_fracture_classification\"\n",
        "username = \"potguy\"  # Replace with your actual HF username\n",
        "repo_id = f\"{username}/{repo_name}\"\n",
        "\n",
        "# Initialize API\n",
        "api = HfApi()\n",
        "\n",
        "# ✅ Create repo (ensuring it's a model repo)\n",
        "api.create_repo(repo_id, repo_type=\"model\", exist_ok=True)\n",
        "\n",
        "print(f\"✅ Repository created: https://huggingface.co/{repo_id}\")"
      ],
      "metadata": {
        "colab": {
          "base_uri": "https://localhost:8080/"
        },
        "id": "UJvBH8iHOjHK",
        "outputId": "33d36876-ab84-4dd9-d5e2-55f72cd21be6"
      },
      "execution_count": null,
      "outputs": [
        {
          "output_type": "stream",
          "name": "stdout",
          "text": [
            "✅ Repository created: https://huggingface.co/potguy/efficientnet_clahe_fracture_classification\n"
          ]
        }
      ]
    },
    {
      "cell_type": "code",
      "source": [
        "import os\n",
        "\n",
        "hf_model_path = \"efficientnet_clahe_hf.pt\"  # Ensure this matches your saved model filename\n",
        "print(\"File exists:\", os.path.exists(hf_model_path))"
      ],
      "metadata": {
        "colab": {
          "base_uri": "https://localhost:8080/"
        },
        "id": "XYtiighlQmQl",
        "outputId": "fdefb146-193e-40c1-c7d4-4a4ba18b92f6"
      },
      "execution_count": null,
      "outputs": [
        {
          "output_type": "stream",
          "name": "stdout",
          "text": [
            "File exists: True\n"
          ]
        }
      ]
    },
    {
      "cell_type": "markdown",
      "source": [
        "# Uploading and Downloading the Model from Hugging Face Hub\n",
        "\n",
        "This section facilitates sharing and reusing the CLAHE-enhanced EfficientNet model by:\n",
        "\n",
        "Uploading the full model and its state_dict (weights only) to the Hugging Face Hub.\n",
        "Providing direct links to access the model repository.\n",
        "Downloading the model weights from Hugging Face and reloading the architecture for inference.\n",
        "This allows easy access to the model for future research, deployment, and collaboration."
      ],
      "metadata": {
        "id": "2MZ6tXh_qhRj"
      }
    },
    {
      "cell_type": "code",
      "source": [
        "from huggingface_hub import HfApi\n",
        "\n",
        "repo_id = \"potguy/efficientnet_clahe_fracture_classification\"  # Your HF repo\n",
        "\n",
        "api = HfApi()\n",
        "api.upload_file(\n",
        "    path_or_fileobj=hf_model_path,\n",
        "    path_in_repo=hf_model_path,  # This determines the filename in the repo\n",
        "    repo_id=repo_id,\n",
        "    repo_type=\"model\"\n",
        ")\n",
        "\n",
        "print(f\"✅ Model uploaded successfully to: https://huggingface.co/{repo_id}\")"
      ],
      "metadata": {
        "colab": {
          "base_uri": "https://localhost:8080/",
          "height": 67,
          "referenced_widgets": [
            "ae1290dfec6d491fb5ba624e6b5bb6d7",
            "da334681a3ef404b90813e34d6296e83",
            "692280632e94471984e060a46f61e78f",
            "04d72a33b7aa4bd6ad36fd4740a0b18e",
            "248d125532634998a76def637ccd9c93",
            "e5b29f459d974ef2804944e2ec11b66a",
            "50974ae897a04f6d8731409c52ee302c",
            "cc5c0b65976e40b3beba101b1833fd6c",
            "01a997681ba546c0924f27b556d997f2",
            "f9a5780d172d4a6791ddf6b4833a7912",
            "efe807f027644e8f8ace04a2bb16d941"
          ]
        },
        "id": "YzFWKAeQQwEi",
        "outputId": "41ac80ed-a18e-4b14-ac80-16ddc08fca0e"
      },
      "execution_count": null,
      "outputs": [
        {
          "output_type": "display_data",
          "data": {
            "text/plain": [
              "efficientnet_clahe_hf.pt:   0%|          | 0.00/16.4M [00:00<?, ?B/s]"
            ],
            "application/vnd.jupyter.widget-view+json": {
              "version_major": 2,
              "version_minor": 0,
              "model_id": "ae1290dfec6d491fb5ba624e6b5bb6d7"
            }
          },
          "metadata": {}
        },
        {
          "output_type": "stream",
          "name": "stdout",
          "text": [
            "✅ Model uploaded successfully to: https://huggingface.co/potguy/efficientnet_clahe_fracture_classification\n"
          ]
        }
      ]
    },
    {
      "cell_type": "code",
      "source": [
        "torch.save(model.state_dict(), \"efficientnet_clahe_hf.pth\")  # Save only weights\n",
        "\n",
        "from huggingface_hub import HfApi\n",
        "\n",
        "repo_id = \"potguy/efficientnet_clahe_fracture_classification\"\n",
        "\n",
        "api = HfApi()\n",
        "api.upload_file(\n",
        "    path_or_fileobj=\"efficientnet_clahe_hf.pth\",\n",
        "    path_in_repo=\"efficientnet_clahe_hf.pth\",\n",
        "    repo_id=repo_id,\n",
        "    repo_type=\"model\"\n",
        ")\n",
        "\n",
        "print(f\"✅ Model weights uploaded to: https://huggingface.co/{repo_id}\")\n"
      ],
      "metadata": {
        "colab": {
          "base_uri": "https://localhost:8080/",
          "height": 67,
          "referenced_widgets": [
            "a300510518134c6d82ff1a213de20a88",
            "89041b5bdea94be4bb661738d6b731c3",
            "3f6c06e8eaca49ad9cb71e2cc98f9a2c",
            "40a7962d9e2c48ff9cd9860d34f21769",
            "edf086393ce84ca78431745aecb99565",
            "91036e9e7b1b48f28c5fbc4e37789ec1",
            "2c6fd38349c847e3aa21c4c9c8a26cc3",
            "2618e27fe8d54e2894dd4d2bddcc8751",
            "f1dee2ab8de845d5a31520db99174013",
            "1b256ed76ff54772aa081ae1656a2557",
            "6fcf209570314f03bb37a5bdab338952"
          ]
        },
        "id": "8hfpZi03RWMO",
        "outputId": "43641889-df9c-4c1d-8df7-8f6f6dc7c448"
      },
      "execution_count": null,
      "outputs": [
        {
          "output_type": "display_data",
          "data": {
            "text/plain": [
              "efficientnet_clahe_hf.pth:   0%|          | 0.00/16.3M [00:00<?, ?B/s]"
            ],
            "application/vnd.jupyter.widget-view+json": {
              "version_major": 2,
              "version_minor": 0,
              "model_id": "a300510518134c6d82ff1a213de20a88"
            }
          },
          "metadata": {}
        },
        {
          "output_type": "stream",
          "name": "stdout",
          "text": [
            "✅ Model weights uploaded to: https://huggingface.co/potguy/efficientnet_clahe_fracture_classification\n"
          ]
        }
      ]
    },
    {
      "cell_type": "code",
      "source": [
        "from huggingface_hub import hf_hub_download\n",
        "import torch\n",
        "from torchvision import models\n",
        "\n",
        "repo_id = \"potguy/efficientnet_clahe_fracture_classification\"\n",
        "filename = \"efficientnet_clahe_hf.pth\"\n",
        "\n",
        "# Download model weights from Hugging Face\n",
        "local_model_path = hf_hub_download(repo_id=repo_id, filename=filename)\n",
        "\n",
        "# Load the model\n",
        "model = models.efficientnet_b0(pretrained=False)\n",
        "model.classifier[1] = torch.nn.Linear(model.classifier[1].in_features, 2)\n",
        "model.load_state_dict(torch.load(local_model_path, map_location=\"cpu\"))\n",
        "model.eval()\n",
        "\n",
        "print(\"✅ Model loaded successfully.\")"
      ],
      "metadata": {
        "colab": {
          "base_uri": "https://localhost:8080/",
          "height": 124,
          "referenced_widgets": [
            "6ce03a093d37476f80ab04dd1d0ceecc",
            "08e611dd50ce4c30bc10d8dde8d4b8c2",
            "0166b279a2ff4e4996b176ff7086978a",
            "fa75e346f27240219541e817b6740e03",
            "622341fca443439388dd3894825d135b",
            "4efca83c8ae94be785514af4838227fc",
            "8697abb4c0cd4084a75dcecd3416d96a",
            "409b1c2c732d42518302fdc4fc5ef497",
            "bc1116ecf3ce4d8bb49daac21b20e186",
            "651658c0eed446938ed0ee68d77d8cf3",
            "b032808459374124a64cd7841ac07373"
          ]
        },
        "id": "36DVnU8YRnhw",
        "outputId": "d9cd561e-3934-4f76-f208-64df5474e184"
      },
      "execution_count": null,
      "outputs": [
        {
          "output_type": "display_data",
          "data": {
            "text/plain": [
              "efficientnet_clahe_hf.pth:   0%|          | 0.00/16.3M [00:00<?, ?B/s]"
            ],
            "application/vnd.jupyter.widget-view+json": {
              "version_major": 2,
              "version_minor": 0,
              "model_id": "6ce03a093d37476f80ab04dd1d0ceecc"
            }
          },
          "metadata": {}
        },
        {
          "output_type": "stream",
          "name": "stdout",
          "text": [
            "✅ Model loaded successfully.\n"
          ]
        },
        {
          "output_type": "stream",
          "name": "stderr",
          "text": [
            "<ipython-input-28-0bd781bb7ae0>:14: FutureWarning: You are using `torch.load` with `weights_only=False` (the current default value), which uses the default pickle module implicitly. It is possible to construct malicious pickle data which will execute arbitrary code during unpickling (See https://github.com/pytorch/pytorch/blob/main/SECURITY.md#untrusted-models for more details). In a future release, the default value for `weights_only` will be flipped to `True`. This limits the functions that could be executed during unpickling. Arbitrary objects will no longer be allowed to be loaded via this mode unless they are explicitly allowlisted by the user via `torch.serialization.add_safe_globals`. We recommend you start setting `weights_only=True` for any use case where you don't have full control of the loaded file. Please open an issue on GitHub for any issues related to this experimental feature.\n",
            "  model.load_state_dict(torch.load(local_model_path, map_location=\"cpu\"))\n"
          ]
        }
      ]
    }
  ]
}